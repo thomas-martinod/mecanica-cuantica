{
 "cells": [
  {
   "cell_type": "code",
   "execution_count": 403,
   "metadata": {},
   "outputs": [],
   "source": [
    "import sympy as smp\n",
    "from sympy.physics.quantum import Dagger\n",
    "i = smp.I"
   ]
  },
  {
   "cell_type": "markdown",
   "metadata": {},
   "source": [
    "## Punto 2"
   ]
  },
  {
   "cell_type": "code",
   "execution_count": 404,
   "metadata": {},
   "outputs": [],
   "source": [
    "hbar, th, phi = smp.symbols('hbar, theta, phi', real = True)"
   ]
  },
  {
   "cell_type": "code",
   "execution_count": 405,
   "metadata": {},
   "outputs": [
    {
     "data": {
      "text/latex": [
       "$\\displaystyle \\left[\\begin{matrix}0\\\\0\\\\1\\end{matrix}\\right]$"
      ],
      "text/plain": [
       "Matrix([\n",
       "[0],\n",
       "[0],\n",
       "[1]])"
      ]
     },
     "execution_count": 405,
     "metadata": {},
     "output_type": "execute_result"
    }
   ],
   "source": [
    "# Vectores base\n",
    "b1, b2, b3 = smp.Matrix([1,0,0]), smp.Matrix([0,1,0]), smp.Matrix([0,0,1])\n",
    "b3"
   ]
  },
  {
   "cell_type": "code",
   "execution_count": 406,
   "metadata": {},
   "outputs": [
    {
     "data": {
      "text/latex": [
       "$\\displaystyle \\left[\\begin{matrix}\\frac{\\hbar \\cos{\\left(\\theta \\right)}}{2} & \\frac{\\hbar e^{- i \\phi} \\sin{\\left(\\theta \\right)}}{2} & 0\\\\\\frac{\\hbar e^{i \\phi} \\sin{\\left(\\theta \\right)}}{2} & \\frac{\\hbar \\cos{\\left(\\theta \\right)}}{2} & 0\\\\0 & 0 & \\frac{\\hbar}{2}\\end{matrix}\\right]$"
      ],
      "text/plain": [
       "Matrix([\n",
       "[           hbar*cos(theta)/2, hbar*exp(-I*phi)*sin(theta)/2,      0],\n",
       "[hbar*exp(I*phi)*sin(theta)/2,             hbar*cos(theta)/2,      0],\n",
       "[                           0,                             0, hbar/2]])"
      ]
     },
     "execution_count": 406,
     "metadata": {},
     "output_type": "execute_result"
    }
   ],
   "source": [
    "H = hbar/2 * (smp.cos(th)*b1*Dagger(b1) + (smp.sin(th)*smp.exp(-i*phi))*b1*Dagger(b2) + (smp.sin(th)*smp.exp(i*phi))*b2*Dagger(b1)\n",
    "            + smp.cos(th)*b2*Dagger(b2) + b3*Dagger(b3))\n",
    "H"
   ]
  },
  {
   "cell_type": "code",
   "execution_count": 407,
   "metadata": {},
   "outputs": [
    {
     "data": {
      "text/latex": [
       "$\\displaystyle \\left[\\begin{matrix}\\frac{\\hbar \\cos{\\left(\\theta \\right)}}{2} & \\frac{\\hbar e^{- i \\phi} \\sin{\\left(\\theta \\right)}}{2} & 0\\\\\\frac{\\hbar e^{i \\phi} \\sin{\\left(\\theta \\right)}}{2} & \\frac{\\hbar \\cos{\\left(\\theta \\right)}}{2} & 0\\\\0 & 0 & \\frac{\\hbar}{2}\\end{matrix}\\right]$"
      ],
      "text/plain": [
       "Matrix([\n",
       "[           hbar*cos(theta)/2, hbar*exp(-I*phi)*sin(theta)/2,      0],\n",
       "[hbar*exp(I*phi)*sin(theta)/2,             hbar*cos(theta)/2,      0],\n",
       "[                           0,                             0, hbar/2]])"
      ]
     },
     "execution_count": 407,
     "metadata": {},
     "output_type": "execute_result"
    }
   ],
   "source": [
    "Dagger(H)"
   ]
  },
  {
   "cell_type": "code",
   "execution_count": 408,
   "metadata": {},
   "outputs": [],
   "source": [
    "def getEigen(M):\n",
    "    # Obtiene el tamaño de la matriz M\n",
    "    m = M.shape[0]\n",
    "    # Se inicializan dos listas vacías para los autovalores (vals) y los autovectores (vects)\n",
    "    vals, vects = [], []\n",
    "\n",
    "    # Obtiene los valores propios y los vectores propios de la matriz M\n",
    "    eig = M.eigenvects()\n",
    "\n",
    "    # Itera sobre los valores propios, sus multiplicidades y los vectores propios correspondientes\n",
    "    for k in eig:\n",
    "        # Itera sobre el número de vectores propios asociados a un valor propio\n",
    "        for j in range(k[1]):\n",
    "            # Añade el valor propio expandido y simplificado a la lista de valores propios\n",
    "            vals.append(k[0])\n",
    "            # Añade el vector propio expandido y simplificado a la lista de vectores propios\n",
    "            vects.append(smp.simplify(k[2][j]))\n",
    "\n",
    "    # Crea una matriz de ceros del mismo tamaño que la lista de vectores propios\n",
    "    Svects = smp.zeros(m)\n",
    "\n",
    "    # Convierte los elementos de la lista de vectores propios en objetos Matrix y los asigna a Svects\n",
    "    for k in range(len(vects)):\n",
    "        Svects[k] = smp.Matrix(vects[k])\n",
    "\n",
    "    # Devuelve una tupla que contiene una matriz m x 1 de valores propios y una matriz m x m de vectores propios\n",
    "    return smp.Matrix(vals), Svects"
   ]
  },
  {
   "cell_type": "code",
   "execution_count": 409,
   "metadata": {},
   "outputs": [
    {
     "name": "stdout",
     "output_type": "stream",
     "text": [
      "\\frac{\\hbar \\left(\\sin{\\left(\\theta \\right)} + \\cos{\\left(\\theta \\right)}\\right)}{2}\n"
     ]
    },
    {
     "data": {
      "text/latex": [
       "$\\displaystyle \\left[\\begin{matrix}\\frac{\\hbar}{2}\\\\- \\frac{\\hbar \\sin{\\left(\\theta \\right)}}{2} + \\frac{\\hbar \\cos{\\left(\\theta \\right)}}{2}\\\\\\frac{\\hbar \\sin{\\left(\\theta \\right)}}{2} + \\frac{\\hbar \\cos{\\left(\\theta \\right)}}{2}\\end{matrix}\\right]$"
      ],
      "text/plain": [
       "Matrix([\n",
       "[                                hbar/2],\n",
       "[-hbar*sin(theta)/2 + hbar*cos(theta)/2],\n",
       "[ hbar*sin(theta)/2 + hbar*cos(theta)/2]])"
      ]
     },
     "metadata": {},
     "output_type": "display_data"
    },
    {
     "data": {
      "text/latex": [
       "$\\displaystyle \\left[\\begin{matrix}0 & - e^{- i \\phi} & e^{- i \\phi}\\\\0 & 1 & 1\\\\1 & 0 & 0\\end{matrix}\\right]$"
      ],
      "text/plain": [
       "Matrix([\n",
       "[0, -exp(-I*phi), exp(-I*phi)],\n",
       "[0,            1,           1],\n",
       "[1,            0,           0]])"
      ]
     },
     "metadata": {},
     "output_type": "display_data"
    }
   ],
   "source": [
    "# Llama a la función getEigenvectsEigenvals con la matriz Htoy como argumento\n",
    "Hvals, Hvects = getEigen(H)\n",
    "print(smp.latex(Hvals[2].factor()))\n",
    "\n",
    "# Muestra los valores propios y los vectores propios\n",
    "display(Hvals, Hvects)"
   ]
  },
  {
   "cell_type": "code",
   "execution_count": 410,
   "metadata": {},
   "outputs": [],
   "source": [
    "def DiagonalMatrix(vec):\n",
    "    dim = vec.shape[0]\n",
    "    D = smp.zeros(dim)\n",
    "    for j in range(dim):\n",
    "        D[j,j] = vec[j]\n",
    "    return D"
   ]
  },
  {
   "cell_type": "code",
   "execution_count": 411,
   "metadata": {},
   "outputs": [
    {
     "data": {
      "text/latex": [
       "$\\displaystyle \\left[\\begin{matrix}0 & - e^{- i \\phi} & e^{- i \\phi}\\\\0 & 1 & 1\\\\1 & 0 & 0\\end{matrix}\\right]$"
      ],
      "text/plain": [
       "Matrix([\n",
       "[0, -exp(-I*phi), exp(-I*phi)],\n",
       "[0,            1,           1],\n",
       "[1,            0,           0]])"
      ]
     },
     "metadata": {},
     "output_type": "display_data"
    },
    {
     "data": {
      "text/latex": [
       "$\\displaystyle \\left[\\begin{matrix}\\frac{\\hbar}{2} & 0 & 0\\\\0 & - \\frac{\\hbar \\sin{\\left(\\theta \\right)}}{2} + \\frac{\\hbar \\cos{\\left(\\theta \\right)}}{2} & 0\\\\0 & 0 & \\frac{\\hbar \\sin{\\left(\\theta \\right)}}{2} + \\frac{\\hbar \\cos{\\left(\\theta \\right)}}{2}\\end{matrix}\\right]$"
      ],
      "text/plain": [
       "Matrix([\n",
       "[hbar/2,                                      0,                                     0],\n",
       "[     0, -hbar*sin(theta)/2 + hbar*cos(theta)/2,                                     0],\n",
       "[     0,                                      0, hbar*sin(theta)/2 + hbar*cos(theta)/2]])"
      ]
     },
     "metadata": {},
     "output_type": "display_data"
    }
   ],
   "source": [
    "# Diagonalización\n",
    "P = Hvects\n",
    "D = DiagonalMatrix(Hvals)\n",
    "\n",
    "display(P, D)"
   ]
  },
  {
   "cell_type": "code",
   "execution_count": 412,
   "metadata": {},
   "outputs": [
    {
     "data": {
      "text/latex": [
       "$\\displaystyle \\frac{\\sqrt{2} \\hbar \\sin{\\left(\\theta + \\frac{\\pi}{4} \\right)}}{2}$"
      ],
      "text/plain": [
       "sqrt(2)*hbar*sin(theta + pi/4)/2"
      ]
     },
     "execution_count": 412,
     "metadata": {},
     "output_type": "execute_result"
    }
   ],
   "source": [
    "((P.inv() * H * P) * 1)[2,2].simplify()"
   ]
  },
  {
   "cell_type": "code",
   "execution_count": 413,
   "metadata": {},
   "outputs": [
    {
     "data": {
      "text/latex": [
       "$\\displaystyle \\frac{\\sqrt{2} \\hbar \\sin{\\left(\\theta + \\frac{\\pi}{4} \\right)}}{2}$"
      ],
      "text/plain": [
       "sqrt(2)*hbar*sin(theta + pi/4)/2"
      ]
     },
     "execution_count": 413,
     "metadata": {},
     "output_type": "execute_result"
    }
   ],
   "source": [
    "D[2,2].simplify()"
   ]
  },
  {
   "cell_type": "code",
   "execution_count": 414,
   "metadata": {},
   "outputs": [],
   "source": [
    "def getNorm(v):\n",
    "    norm = smp.simplify(smp.sqrt(sum(smp.Abs(j)**2 for j in v)).expand(complex=True))\n",
    "    return norm\n",
    "\n",
    "def Normalize(v):\n",
    "    # Calcula la norma del vector v utilizando la función getNorm definida anteriormente.\n",
    "    norm = getNorm(v)\n",
    "\n",
    "    # Normaliza el vector v dividiendo cada componente por la norma.\n",
    "    normalized_vector = smp.simplify((v*(1/norm)).expand(complex=True))\n",
    "\n",
    "    return normalized_vector"
   ]
  },
  {
   "cell_type": "code",
   "execution_count": 415,
   "metadata": {},
   "outputs": [
    {
     "data": {
      "text/latex": [
       "$\\displaystyle \\left[\\begin{matrix}0 & - \\frac{\\sqrt{2} e^{- i \\phi}}{2} & \\frac{\\sqrt{2} e^{- i \\phi}}{2}\\\\0 & \\frac{\\sqrt{2}}{2} & \\frac{\\sqrt{2}}{2}\\\\1 & 0 & 0\\end{matrix}\\right]$"
      ],
      "text/plain": [
       "Matrix([\n",
       "[0, -sqrt(2)*exp(-I*phi)/2, sqrt(2)*exp(-I*phi)/2],\n",
       "[0,              sqrt(2)/2,             sqrt(2)/2],\n",
       "[1,                      0,                     0]])"
      ]
     },
     "execution_count": 415,
     "metadata": {},
     "output_type": "execute_result"
    }
   ],
   "source": [
    "Pnorm = smp.Matrix([[Normalize(P.col(j)) for j in range(P.shape[1])]])\n",
    "Pnorm"
   ]
  },
  {
   "cell_type": "code",
   "execution_count": 416,
   "metadata": {},
   "outputs": [
    {
     "data": {
      "text/latex": [
       "$\\displaystyle \\left[\\begin{matrix}0 & 0 & 1\\\\- \\frac{\\sqrt{2} e^{i \\phi}}{2} & \\frac{\\sqrt{2}}{2} & 0\\\\\\frac{\\sqrt{2} e^{i \\phi}}{2} & \\frac{\\sqrt{2}}{2} & 0\\end{matrix}\\right]$"
      ],
      "text/plain": [
       "Matrix([\n",
       "[                    0,         0, 1],\n",
       "[-sqrt(2)*exp(I*phi)/2, sqrt(2)/2, 0],\n",
       "[ sqrt(2)*exp(I*phi)/2, sqrt(2)/2, 0]])"
      ]
     },
     "execution_count": 416,
     "metadata": {},
     "output_type": "execute_result"
    }
   ],
   "source": [
    "Pnorm.inv()"
   ]
  },
  {
   "cell_type": "code",
   "execution_count": 417,
   "metadata": {},
   "outputs": [
    {
     "name": "stdout",
     "output_type": "stream",
     "text": [
      "\\left[\\begin{matrix}\\frac{\\hbar}{2} & 0 & 0\\\\0 & \\frac{\\sqrt{2} \\hbar \\cos{\\left(\\theta + \\frac{\\pi}{4} \\right)}}{2} & 0\\\\0 & 0 & \\frac{\\sqrt{2} \\hbar \\sin{\\left(\\theta + \\frac{\\pi}{4} \\right)}}{2}\\end{matrix}\\right]\n"
     ]
    }
   ],
   "source": [
    "print(smp.latex((Pnorm.inv() * H * Pnorm).applyfunc(smp.simplify)))"
   ]
  },
  {
   "cell_type": "code",
   "execution_count": 418,
   "metadata": {},
   "outputs": [
    {
     "data": {
      "text/latex": [
       "$\\displaystyle \\left[\\begin{matrix}\\frac{\\hbar}{2} & 0 & 0\\\\0 & \\frac{\\sqrt{2} \\hbar \\cos{\\left(\\theta + \\frac{\\pi}{4} \\right)}}{2} & 0\\\\0 & 0 & \\frac{\\sqrt{2} \\hbar \\sin{\\left(\\theta + \\frac{\\pi}{4} \\right)}}{2}\\end{matrix}\\right]$"
      ],
      "text/plain": [
       "Matrix([\n",
       "[hbar/2,                                0,                                0],\n",
       "[     0, sqrt(2)*hbar*cos(theta + pi/4)/2,                                0],\n",
       "[     0,                                0, sqrt(2)*hbar*sin(theta + pi/4)/2]])"
      ]
     },
     "execution_count": 418,
     "metadata": {},
     "output_type": "execute_result"
    }
   ],
   "source": [
    "D.applyfunc(smp.simplify)"
   ]
  },
  {
   "cell_type": "code",
   "execution_count": 419,
   "metadata": {},
   "outputs": [
    {
     "data": {
      "text/latex": [
       "$\\displaystyle \\sqrt{6}$"
      ],
      "text/plain": [
       "sqrt(6)"
      ]
     },
     "execution_count": 419,
     "metadata": {},
     "output_type": "execute_result"
    }
   ],
   "source": [
    "psi0 = smp.Matrix([2,1,1])\n",
    "getNorm(psi0)"
   ]
  },
  {
   "cell_type": "code",
   "execution_count": 420,
   "metadata": {},
   "outputs": [
    {
     "data": {
      "text/latex": [
       "$\\displaystyle \\left[\\begin{matrix}\\frac{\\sqrt{6}}{3}\\\\\\frac{\\sqrt{6}}{6}\\\\\\frac{\\sqrt{6}}{6}\\end{matrix}\\right]$"
      ],
      "text/plain": [
       "Matrix([\n",
       "[sqrt(6)/3],\n",
       "[sqrt(6)/6],\n",
       "[sqrt(6)/6]])"
      ]
     },
     "execution_count": 420,
     "metadata": {},
     "output_type": "execute_result"
    }
   ],
   "source": [
    "psi0 = Normalize(psi0)\n",
    "psi0"
   ]
  },
  {
   "cell_type": "code",
   "execution_count": 421,
   "metadata": {},
   "outputs": [
    {
     "data": {
      "text/latex": [
       "$\\displaystyle \\left[\\begin{matrix}0\\\\0\\\\1\\end{matrix}\\right]$"
      ],
      "text/plain": [
       "Matrix([\n",
       "[0],\n",
       "[0],\n",
       "[1]])"
      ]
     },
     "execution_count": 421,
     "metadata": {},
     "output_type": "execute_result"
    }
   ],
   "source": [
    "u1 = Normalize(P.col(0))\n",
    "u1"
   ]
  },
  {
   "cell_type": "code",
   "execution_count": 422,
   "metadata": {},
   "outputs": [
    {
     "data": {
      "text/latex": [
       "$\\displaystyle \\left[\\begin{matrix}- \\frac{\\sqrt{2} e^{- i \\phi}}{2}\\\\\\frac{\\sqrt{2}}{2}\\\\0\\end{matrix}\\right]$"
      ],
      "text/plain": [
       "Matrix([\n",
       "[-sqrt(2)*exp(-I*phi)/2],\n",
       "[             sqrt(2)/2],\n",
       "[                     0]])"
      ]
     },
     "metadata": {},
     "output_type": "display_data"
    },
    {
     "data": {
      "text/latex": [
       "$\\displaystyle \\left[\\begin{matrix}- \\frac{\\sqrt{2} e^{- i \\phi}}{2}\\\\\\frac{\\sqrt{2}}{2}\\\\0\\end{matrix}\\right]$"
      ],
      "text/plain": [
       "Matrix([\n",
       "[-sqrt(2)*exp(-I*phi)/2],\n",
       "[             sqrt(2)/2],\n",
       "[                     0]])"
      ]
     },
     "metadata": {},
     "output_type": "display_data"
    }
   ],
   "source": [
    "u2 = Normalize(P.col(1))\n",
    "display(u2, Pnorm.col(1))"
   ]
  },
  {
   "cell_type": "code",
   "execution_count": 423,
   "metadata": {},
   "outputs": [
    {
     "data": {
      "text/latex": [
       "$\\displaystyle \\left[\\begin{matrix}\\frac{\\sqrt{2} e^{- i \\phi}}{2}\\\\\\frac{\\sqrt{2}}{2}\\\\0\\end{matrix}\\right]$"
      ],
      "text/plain": [
       "Matrix([\n",
       "[sqrt(2)*exp(-I*phi)/2],\n",
       "[            sqrt(2)/2],\n",
       "[                    0]])"
      ]
     },
     "execution_count": 423,
     "metadata": {},
     "output_type": "execute_result"
    }
   ],
   "source": [
    "u3 = Normalize(P.col(2))\n",
    "u3"
   ]
  },
  {
   "cell_type": "code",
   "execution_count": 424,
   "metadata": {},
   "outputs": [],
   "source": [
    "def getP(phi, ui):\n",
    "    return (smp.Abs(Dagger(ui)*phi)[0])**2"
   ]
  },
  {
   "cell_type": "code",
   "execution_count": 425,
   "metadata": {},
   "outputs": [
    {
     "data": {
      "text/latex": [
       "$\\displaystyle \\frac{1}{6}$"
      ],
      "text/plain": [
       "1/6"
      ]
     },
     "execution_count": 425,
     "metadata": {},
     "output_type": "execute_result"
    }
   ],
   "source": [
    "cond = {phi : 0, th : 0}\n",
    "Pa1 = getP(psi0, u1).subs(cond)\n",
    "Pa1"
   ]
  },
  {
   "cell_type": "code",
   "execution_count": 426,
   "metadata": {},
   "outputs": [
    {
     "data": {
      "text/latex": [
       "$\\displaystyle \\frac{1}{12}$"
      ],
      "text/plain": [
       "1/12"
      ]
     },
     "execution_count": 426,
     "metadata": {},
     "output_type": "execute_result"
    }
   ],
   "source": [
    "Pa2 = getP(psi0, u2).subs(cond)\n",
    "Pa2"
   ]
  },
  {
   "cell_type": "code",
   "execution_count": 427,
   "metadata": {},
   "outputs": [
    {
     "data": {
      "text/latex": [
       "$\\displaystyle \\frac{3}{4}$"
      ],
      "text/plain": [
       "3/4"
      ]
     },
     "execution_count": 427,
     "metadata": {},
     "output_type": "execute_result"
    }
   ],
   "source": [
    "Pa3 = getP(psi0, u3).subs(cond)\n",
    "Pa3"
   ]
  },
  {
   "cell_type": "code",
   "execution_count": 428,
   "metadata": {},
   "outputs": [
    {
     "data": {
      "text/latex": [
       "$\\displaystyle 1$"
      ],
      "text/plain": [
       "1"
      ]
     },
     "execution_count": 428,
     "metadata": {},
     "output_type": "execute_result"
    }
   ],
   "source": [
    "Pa1 + Pa2 + Pa3"
   ]
  },
  {
   "cell_type": "code",
   "execution_count": 429,
   "metadata": {},
   "outputs": [
    {
     "data": {
      "text/latex": [
       "$\\displaystyle \\left[\\begin{matrix}\\frac{\\hbar \\cos{\\left(\\theta \\right)}}{2} & \\frac{\\hbar e^{- i \\phi} \\sin{\\left(\\theta \\right)}}{2} & 0\\\\\\frac{\\hbar e^{i \\phi} \\sin{\\left(\\theta \\right)}}{2} & \\frac{\\hbar \\cos{\\left(\\theta \\right)}}{2} & 0\\\\0 & 0 & \\frac{\\hbar}{2}\\end{matrix}\\right]$"
      ],
      "text/plain": [
       "Matrix([\n",
       "[           hbar*cos(theta)/2, hbar*exp(-I*phi)*sin(theta)/2,      0],\n",
       "[hbar*exp(I*phi)*sin(theta)/2,             hbar*cos(theta)/2,      0],\n",
       "[                           0,                             0, hbar/2]])"
      ]
     },
     "execution_count": 429,
     "metadata": {},
     "output_type": "execute_result"
    }
   ],
   "source": [
    "H"
   ]
  },
  {
   "cell_type": "code",
   "execution_count": 430,
   "metadata": {},
   "outputs": [
    {
     "data": {
      "text/latex": [
       "$\\displaystyle \\left[\\begin{matrix}0 & - \\frac{i \\hbar}{2} & 0\\\\\\frac{i \\hbar}{2} & 0 & 0\\\\0 & 0 & \\frac{\\hbar}{2}\\end{matrix}\\right]$"
      ],
      "text/plain": [
       "Matrix([\n",
       "[       0, -I*hbar/2,      0],\n",
       "[I*hbar/2,         0,      0],\n",
       "[       0,         0, hbar/2]])"
      ]
     },
     "execution_count": 430,
     "metadata": {},
     "output_type": "execute_result"
    }
   ],
   "source": [
    "cond2 = {phi : smp.pi/2, th : smp.pi/2}\n",
    "Hcond2 = H.subs(cond2)\n",
    "Hcond2"
   ]
  },
  {
   "cell_type": "code",
   "execution_count": 431,
   "metadata": {},
   "outputs": [
    {
     "data": {
      "text/latex": [
       "$\\displaystyle \\left[\\begin{matrix}\\frac{\\hbar^{2}}{4} & 0 & 0\\\\0 & \\frac{\\hbar^{2}}{4} & 0\\\\0 & 0 & \\frac{\\hbar^{2}}{4}\\end{matrix}\\right]$"
      ],
      "text/plain": [
       "Matrix([\n",
       "[hbar**2/4,         0,         0],\n",
       "[        0, hbar**2/4,         0],\n",
       "[        0,         0, hbar**2/4]])"
      ]
     },
     "execution_count": 431,
     "metadata": {},
     "output_type": "execute_result"
    }
   ],
   "source": [
    "HH = Hcond2*Hcond2\n",
    "HH"
   ]
  },
  {
   "cell_type": "code",
   "execution_count": 432,
   "metadata": {},
   "outputs": [
    {
     "data": {
      "text/latex": [
       "$\\displaystyle \\frac{\\hbar}{12}$"
      ],
      "text/plain": [
       "hbar/12"
      ]
     },
     "execution_count": 432,
     "metadata": {},
     "output_type": "execute_result"
    }
   ],
   "source": [
    "meanH = (Dagger(psi0) * Hcond2 * psi0)[0]\n",
    "meanH"
   ]
  },
  {
   "cell_type": "code",
   "execution_count": 433,
   "metadata": {},
   "outputs": [
    {
     "data": {
      "text/latex": [
       "$\\displaystyle \\frac{\\hbar^{2}}{4}$"
      ],
      "text/plain": [
       "hbar**2/4"
      ]
     },
     "execution_count": 433,
     "metadata": {},
     "output_type": "execute_result"
    }
   ],
   "source": [
    "meanHH = (Dagger(psi0) * HH * psi0)[0]\n",
    "meanHH"
   ]
  },
  {
   "cell_type": "code",
   "execution_count": 434,
   "metadata": {},
   "outputs": [
    {
     "data": {
      "text/latex": [
       "$\\displaystyle \\frac{\\sqrt{35} \\left|{\\hbar}\\right|}{12}$"
      ],
      "text/plain": [
       "sqrt(35)*Abs(hbar)/12"
      ]
     },
     "execution_count": 434,
     "metadata": {},
     "output_type": "execute_result"
    }
   ],
   "source": [
    "ΔH = smp.sqrt(meanHH - meanH**2)\n",
    "ΔH"
   ]
  },
  {
   "cell_type": "code",
   "execution_count": 435,
   "metadata": {},
   "outputs": [],
   "source": [
    "t, t0 = smp.symbols('t, t_0')"
   ]
  },
  {
   "cell_type": "code",
   "execution_count": 436,
   "metadata": {},
   "outputs": [
    {
     "data": {
      "text/latex": [
       "$\\displaystyle \\left[\\begin{matrix}\\frac{\\sqrt{6}}{6}\\\\- \\frac{\\sqrt{6} e^{i \\phi}}{3} + \\frac{\\sqrt{6}}{6}\\\\\\frac{\\sqrt{6} e^{i \\phi}}{3} + \\frac{\\sqrt{6}}{6}\\end{matrix}\\right]$"
      ],
      "text/plain": [
       "Matrix([\n",
       "[                        sqrt(6)/6],\n",
       "[-sqrt(6)*exp(I*phi)/3 + sqrt(6)/6],\n",
       "[ sqrt(6)*exp(I*phi)/3 + sqrt(6)/6]])"
      ]
     },
     "execution_count": 436,
     "metadata": {},
     "output_type": "execute_result"
    }
   ],
   "source": [
    "# Expandir psi0 en la base de autovectores de H\n",
    "m = P.shape[0]\n",
    "c = smp.zeros(m, 1)\n",
    "psi = smp.zeros(m, 1)\n",
    "c\n",
    "\n",
    "for j in range(m):\n",
    "    c[j] = (Dagger(P.col(j)) * psi0)[0]\n",
    "\n",
    "c"
   ]
  },
  {
   "cell_type": "code",
   "execution_count": 437,
   "metadata": {},
   "outputs": [
    {
     "data": {
      "text/latex": [
       "$\\displaystyle \\left[\\begin{matrix}- \\left(- \\frac{\\sqrt{6} e^{i \\phi}}{3} + \\frac{\\sqrt{6}}{6}\\right) e^{- i \\phi} e^{- i \\left(t - t_{0}\\right) \\left(- \\frac{\\hbar \\sin{\\left(\\theta \\right)}}{2} + \\frac{\\hbar \\cos{\\left(\\theta \\right)}}{2}\\right)} + \\left(\\frac{\\sqrt{6} e^{i \\phi}}{3} + \\frac{\\sqrt{6}}{6}\\right) e^{- i \\phi} e^{- i \\left(t - t_{0}\\right) \\left(\\frac{\\hbar \\sin{\\left(\\theta \\right)}}{2} + \\frac{\\hbar \\cos{\\left(\\theta \\right)}}{2}\\right)}\\\\\\left(- \\frac{\\sqrt{6} e^{i \\phi}}{3} + \\frac{\\sqrt{6}}{6}\\right) e^{- i \\left(t - t_{0}\\right) \\left(- \\frac{\\hbar \\sin{\\left(\\theta \\right)}}{2} + \\frac{\\hbar \\cos{\\left(\\theta \\right)}}{2}\\right)} + \\left(\\frac{\\sqrt{6} e^{i \\phi}}{3} + \\frac{\\sqrt{6}}{6}\\right) e^{- i \\left(t - t_{0}\\right) \\left(\\frac{\\hbar \\sin{\\left(\\theta \\right)}}{2} + \\frac{\\hbar \\cos{\\left(\\theta \\right)}}{2}\\right)}\\\\\\frac{\\sqrt{6} e^{- \\frac{i \\hbar \\left(t - t_{0}\\right)}{2}}}{6}\\end{matrix}\\right]$"
      ],
      "text/plain": [
       "Matrix([\n",
       "[-(-sqrt(6)*exp(I*phi)/3 + sqrt(6)/6)*exp(-I*phi)*exp(-I*(t - t_0)*(-hbar*sin(theta)/2 + hbar*cos(theta)/2)) + (sqrt(6)*exp(I*phi)/3 + sqrt(6)/6)*exp(-I*phi)*exp(-I*(t - t_0)*(hbar*sin(theta)/2 + hbar*cos(theta)/2))],\n",
       "[                         (-sqrt(6)*exp(I*phi)/3 + sqrt(6)/6)*exp(-I*(t - t_0)*(-hbar*sin(theta)/2 + hbar*cos(theta)/2)) + (sqrt(6)*exp(I*phi)/3 + sqrt(6)/6)*exp(-I*(t - t_0)*(hbar*sin(theta)/2 + hbar*cos(theta)/2))],\n",
       "[                                                                                                                                                                                    sqrt(6)*exp(-I*hbar*(t - t_0)/2)/6]])"
      ]
     },
     "metadata": {},
     "output_type": "display_data"
    }
   ],
   "source": [
    "for j in range(m):\n",
    "    psi = psi + c[j] * smp.exp(-i * Hvals[j] * (t-t0)) * P.col(j)\n",
    "\n",
    "display(psi)"
   ]
  },
  {
   "cell_type": "code",
   "execution_count": 438,
   "metadata": {},
   "outputs": [
    {
     "data": {
      "text/latex": [
       "$\\displaystyle \\left[\\begin{matrix}i \\left(\\frac{\\sqrt{6}}{6} - \\frac{\\sqrt{6} i}{3}\\right) e^{\\frac{i \\hbar \\left(t - t_{0}\\right)}{2}} - i \\left(\\frac{\\sqrt{6}}{6} + \\frac{\\sqrt{6} i}{3}\\right) e^{- \\frac{i \\hbar \\left(t - t_{0}\\right)}{2}}\\\\\\left(\\frac{\\sqrt{6}}{6} - \\frac{\\sqrt{6} i}{3}\\right) e^{\\frac{i \\hbar \\left(t - t_{0}\\right)}{2}} + \\left(\\frac{\\sqrt{6}}{6} + \\frac{\\sqrt{6} i}{3}\\right) e^{- \\frac{i \\hbar \\left(t - t_{0}\\right)}{2}}\\\\\\frac{\\sqrt{6} e^{- \\frac{i \\hbar \\left(t - t_{0}\\right)}{2}}}{6}\\end{matrix}\\right]$"
      ],
      "text/plain": [
       "Matrix([\n",
       "[I*(sqrt(6)/6 - sqrt(6)*I/3)*exp(I*hbar*(t - t_0)/2) - I*(sqrt(6)/6 + sqrt(6)*I/3)*exp(-I*hbar*(t - t_0)/2)],\n",
       "[    (sqrt(6)/6 - sqrt(6)*I/3)*exp(I*hbar*(t - t_0)/2) + (sqrt(6)/6 + sqrt(6)*I/3)*exp(-I*hbar*(t - t_0)/2)],\n",
       "[                                                                        sqrt(6)*exp(-I*hbar*(t - t_0)/2)/6]])"
      ]
     },
     "execution_count": 438,
     "metadata": {},
     "output_type": "execute_result"
    }
   ],
   "source": [
    "psicond2 = psi.subs(cond2)\n",
    "psicond2"
   ]
  },
  {
   "cell_type": "markdown",
   "metadata": {},
   "source": [
    "## PUNTO 3"
   ]
  },
  {
   "cell_type": "code",
   "execution_count": 439,
   "metadata": {},
   "outputs": [
    {
     "data": {
      "text/latex": [
       "$\\displaystyle \\left[\\begin{matrix}2 & \\pi & 0\\\\\\pi & 2 & 0\\\\0 & 0 & 2 + \\pi\\end{matrix}\\right]$"
      ],
      "text/plain": [
       "Matrix([\n",
       "[ 2, pi,      0],\n",
       "[pi,  2,      0],\n",
       "[ 0,  0, 2 + pi]])"
      ]
     },
     "execution_count": 439,
     "metadata": {},
     "output_type": "execute_result"
    }
   ],
   "source": [
    "A = smp.Matrix([[2, smp.pi, 0],[smp.pi, 2, 0],[0, 0, 2+smp.pi]])\n",
    "B = smp.Matrix([[3, smp.exp(1), 0],[smp.exp(1), 3, 0],[0,0,-1]])\n",
    "A"
   ]
  },
  {
   "cell_type": "code",
   "execution_count": 440,
   "metadata": {},
   "outputs": [
    {
     "data": {
      "text/latex": [
       "$\\displaystyle \\left[\\begin{matrix}\\frac{\\sqrt{6} e^{- \\frac{3 i t}{\\hbar}}}{6}\\\\- \\frac{\\sqrt{6} i e^{- \\frac{3 i t}{\\hbar}}}{6}\\\\\\frac{\\sqrt{6} e^{- \\frac{3 i t}{\\hbar}}}{3}\\end{matrix}\\right]$"
      ],
      "text/plain": [
       "Matrix([\n",
       "[   sqrt(6)*exp(-3*I*t/hbar)/6],\n",
       "[-sqrt(6)*I*exp(-3*I*t/hbar)/6],\n",
       "[   sqrt(6)*exp(-3*I*t/hbar)/3]])"
      ]
     },
     "execution_count": 440,
     "metadata": {},
     "output_type": "execute_result"
    }
   ],
   "source": [
    "t = smp.symbols(\"t\")\n",
    "psii = 1/smp.sqrt(6) * smp.Matrix([1, -i, 2])\n",
    "psit = smp.exp(-3*i*t/hbar)/smp.sqrt(6) * smp.Matrix([1, -i, 2])\n",
    "psit"
   ]
  },
  {
   "cell_type": "code",
   "execution_count": 441,
   "metadata": {},
   "outputs": [
    {
     "data": {
      "text/latex": [
       "$\\displaystyle \\left[\\begin{matrix}0 & 0 & 0\\\\0 & 0 & 0\\\\0 & 0 & 0\\end{matrix}\\right]$"
      ],
      "text/plain": [
       "Matrix([\n",
       "[0, 0, 0],\n",
       "[0, 0, 0],\n",
       "[0, 0, 0]])"
      ]
     },
     "execution_count": 441,
     "metadata": {},
     "output_type": "execute_result"
    }
   ],
   "source": [
    "A*B - B*A"
   ]
  },
  {
   "cell_type": "code",
   "execution_count": 442,
   "metadata": {},
   "outputs": [
    {
     "data": {
      "text/latex": [
       "$\\displaystyle \\left[\\begin{matrix}2 - \\pi\\\\2 + \\pi\\\\2 + \\pi\\end{matrix}\\right]$"
      ],
      "text/plain": [
       "Matrix([\n",
       "[2 - pi],\n",
       "[2 + pi],\n",
       "[2 + pi]])"
      ]
     },
     "metadata": {},
     "output_type": "display_data"
    },
    {
     "data": {
      "text/latex": [
       "$\\displaystyle \\left[\\begin{matrix}- \\frac{\\sqrt{2}}{2} & \\frac{\\sqrt{2}}{2} & 0\\\\\\frac{\\sqrt{2}}{2} & \\frac{\\sqrt{2}}{2} & 0\\\\0 & 0 & 1\\end{matrix}\\right]$"
      ],
      "text/plain": [
       "Matrix([\n",
       "[-sqrt(2)/2, sqrt(2)/2, 0],\n",
       "[ sqrt(2)/2, sqrt(2)/2, 0],\n",
       "[         0,         0, 1]])"
      ]
     },
     "metadata": {},
     "output_type": "display_data"
    }
   ],
   "source": [
    "eigenvaluesA, eigenvectorsA = getEigen(A)\n",
    "eigenA_norm = smp.Matrix([[Normalize(eigenvectorsA.col(j)) for j in range(eigenvectorsA.shape[1])]])\n",
    "\n",
    "display(eigenvaluesA)\n",
    "display(eigenA_norm)"
   ]
  },
  {
   "cell_type": "code",
   "execution_count": 443,
   "metadata": {},
   "outputs": [
    {
     "data": {
      "text/latex": [
       "$\\displaystyle \\left[\\begin{matrix}-1\\\\3 - e\\\\e + 3\\end{matrix}\\right]$"
      ],
      "text/plain": [
       "Matrix([\n",
       "[   -1],\n",
       "[3 - E],\n",
       "[E + 3]])"
      ]
     },
     "metadata": {},
     "output_type": "display_data"
    },
    {
     "data": {
      "text/latex": [
       "$\\displaystyle \\left[\\begin{matrix}0 & - \\frac{\\sqrt{2}}{2} & \\frac{\\sqrt{2}}{2}\\\\0 & \\frac{\\sqrt{2}}{2} & \\frac{\\sqrt{2}}{2}\\\\1 & 0 & 0\\end{matrix}\\right]$"
      ],
      "text/plain": [
       "Matrix([\n",
       "[0, -sqrt(2)/2, sqrt(2)/2],\n",
       "[0,  sqrt(2)/2, sqrt(2)/2],\n",
       "[1,          0,         0]])"
      ]
     },
     "metadata": {},
     "output_type": "display_data"
    }
   ],
   "source": [
    "eigenvaluesB, eigenvectorsB = getEigen(B)\n",
    "eigenB_norm = smp.Matrix([[Normalize(eigenvectorsB.col(j)) for j in range(eigenvectorsB.shape[1])]])\n",
    "\n",
    "\n",
    "display(eigenvaluesB)\n",
    "display(eigenB_norm)"
   ]
  },
  {
   "cell_type": "code",
   "execution_count": 444,
   "metadata": {},
   "outputs": [],
   "source": [
    "a1 = eigenA_norm.col(2)\n",
    "a2 = eigenA_norm.col(1)\n",
    "a3 = eigenA_norm.col(0)\n",
    "\n",
    "b1 = eigenB_norm.col(2)\n",
    "b2 = eigenB_norm.col(0)\n",
    "b3 = eigenB_norm.col(1)"
   ]
  },
  {
   "cell_type": "code",
   "execution_count": 445,
   "metadata": {},
   "outputs": [
    {
     "data": {
      "text/latex": [
       "$\\displaystyle \\frac{5}{6}$"
      ],
      "text/plain": [
       "5/6"
      ]
     },
     "execution_count": 445,
     "metadata": {},
     "output_type": "execute_result"
    }
   ],
   "source": [
    "Pα1 = smp.Abs((Dagger(a1)*psii)[0])**2 + smp.Abs((Dagger(a2)*psii)[0])**2\n",
    "Pα1"
   ]
  },
  {
   "cell_type": "code",
   "execution_count": 446,
   "metadata": {},
   "outputs": [
    {
     "data": {
      "text/latex": [
       "$\\displaystyle \\left[\\begin{matrix}\\frac{\\sqrt{5} \\left(1 - i\\right)}{10}\\\\\\frac{\\sqrt{5} \\left(1 - i\\right)}{10}\\\\\\frac{2 \\sqrt{5}}{5}\\end{matrix}\\right]$"
      ],
      "text/plain": [
       "Matrix([\n",
       "[sqrt(5)*(1 - I)/10],\n",
       "[sqrt(5)*(1 - I)/10],\n",
       "[       2*sqrt(5)/5]])"
      ]
     },
     "execution_count": 446,
     "metadata": {},
     "output_type": "execute_result"
    }
   ],
   "source": [
    "χ = Normalize((Dagger(a1)*psii)[0] * a1 + (Dagger(a2)*psii)[0] * a2)\n",
    "χ"
   ]
  },
  {
   "cell_type": "code",
   "execution_count": 447,
   "metadata": {},
   "outputs": [
    {
     "data": {
      "text/latex": [
       "$\\displaystyle \\frac{4}{5}$"
      ],
      "text/plain": [
       "4/5"
      ]
     },
     "execution_count": 447,
     "metadata": {},
     "output_type": "execute_result"
    }
   ],
   "source": [
    "Pβ2α1 = smp.Abs((Dagger(b2) * χ)[0])**2\n",
    "Pβ2α1"
   ]
  },
  {
   "cell_type": "code",
   "execution_count": 448,
   "metadata": {},
   "outputs": [
    {
     "data": {
      "text/latex": [
       "$\\displaystyle 0.666666666666667$"
      ],
      "text/plain": [
       "0.666666666666667"
      ]
     },
     "execution_count": 448,
     "metadata": {},
     "output_type": "execute_result"
    }
   ],
   "source": [
    "PAB = Pα1 * Pβ2α1\n",
    "PAB.evalf()"
   ]
  },
  {
   "cell_type": "code",
   "execution_count": 449,
   "metadata": {},
   "outputs": [
    {
     "data": {
      "text/latex": [
       "$\\displaystyle \\frac{2}{3}$"
      ],
      "text/plain": [
       "2/3"
      ]
     },
     "execution_count": 449,
     "metadata": {},
     "output_type": "execute_result"
    }
   ],
   "source": [
    "Pβ2 = smp.Abs((Dagger(b2)*psii)[0])**2\n",
    "Pβ2"
   ]
  },
  {
   "cell_type": "code",
   "execution_count": 450,
   "metadata": {},
   "outputs": [
    {
     "data": {
      "text/latex": [
       "$\\displaystyle 1$"
      ],
      "text/plain": [
       "1"
      ]
     },
     "execution_count": 450,
     "metadata": {},
     "output_type": "execute_result"
    }
   ],
   "source": [
    "Pα1β2 = smp.Abs((Dagger(a1) * b2)[0])**2 + smp.Abs((Dagger(a2) * b2)[0])**2\n",
    "Pα1β2"
   ]
  },
  {
   "cell_type": "code",
   "execution_count": 451,
   "metadata": {},
   "outputs": [
    {
     "data": {
      "text/latex": [
       "$\\displaystyle 0.666666666666667$"
      ],
      "text/plain": [
       "0.666666666666667"
      ]
     },
     "execution_count": 451,
     "metadata": {},
     "output_type": "execute_result"
    }
   ],
   "source": [
    "PBA = Pβ2*Pα1β2\n",
    "PBA.evalf()"
   ]
  },
  {
   "cell_type": "code",
   "execution_count": 452,
   "metadata": {},
   "outputs": [
    {
     "data": {
      "text/latex": [
       "$\\displaystyle 1$"
      ],
      "text/plain": [
       "1"
      ]
     },
     "execution_count": 452,
     "metadata": {},
     "output_type": "execute_result"
    }
   ],
   "source": [
    "getNorm(b1)"
   ]
  }
 ],
 "metadata": {
  "kernelspec": {
   "display_name": "Python 3",
   "language": "python",
   "name": "python3"
  },
  "language_info": {
   "codemirror_mode": {
    "name": "ipython",
    "version": 3
   },
   "file_extension": ".py",
   "mimetype": "text/x-python",
   "name": "python",
   "nbconvert_exporter": "python",
   "pygments_lexer": "ipython3",
   "version": "3.11.3"
  }
 },
 "nbformat": 4,
 "nbformat_minor": 2
}
