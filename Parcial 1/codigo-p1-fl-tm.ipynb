{
  "cells": [
    {
      "cell_type": "markdown",
      "metadata": {
        "id": "UluwJ7YK-Pul"
      },
      "source": [
        "# Parcial 1\n",
        "## Mecánica Cuántica\n",
        "### Thomas Martinod y Fernando Londoño\n",
        "\n",
        "El desarrollo del parcial requiere de muchos cálculos propios del álgebra lineal. Para estos cálculos se empleará la librería **SymPy**, librería de cálculo simbólico que permite desarrollar el parcial sin error numérico. A cambio de este desarrollo simbólico, las respuestas de algunos numerales tendrán formas irreducibles pero largas, además de que el código tiene requiere de un gran tiempo de cómputo para muchas matrices de entrada."
      ]
    },
    {
      "cell_type": "code",
      "execution_count": 1,
      "metadata": {
        "colab": {
          "base_uri": "https://localhost:8080/",
          "height": 39
        },
        "id": "3OriIXAm-Pum",
        "outputId": "75b33b8a-c177-4f1f-e41a-d3736ff660d5"
      },
      "outputs": [
        {
          "data": {
            "text/latex": [
              "$\\displaystyle i$"
            ],
            "text/plain": [
              "I"
            ]
          },
          "metadata": {},
          "output_type": "display_data"
        }
      ],
      "source": [
        "# Se importa sympy para todo el parcial\n",
        "from sympy import *\n",
        "from sympy.physics.quantum import Dagger\n",
        "\n",
        "# Se define la unidad imaginaria como i minúscula por comodidad\n",
        "i = I\n",
        "display(i)"
      ]
    },
    {
      "cell_type": "markdown",
      "metadata": {
        "id": "FkLYwLFNN6hn"
      },
      "source": [
        "## Problema 1\n",
        "\n",
        "Se definen los operadores $H$ y $L$ como matrices simbólicas de SymPy. Los operadores $H$ y $L$ definidos fueron los siguientes:\n",
        "\n",
        "\\begin{equation}\n",
        "H = \\left[\\begin{matrix}0 & 0 & i\\\\0 & 3 & 0\\\\- i & 0 & 0\\end{matrix}\\right], \\quad L = \\left[\\begin{matrix}\\pi & i \\pi & 0\\\\- i \\pi & 2 \\pi & \\pi\\\\0 & \\pi & 3 \\pi\\end{matrix}\\right]\n",
        "\\end{equation}\n",
        "\n"
      ]
    },
    {
      "cell_type": "code",
      "execution_count": 2,
      "metadata": {
        "colab": {
          "base_uri": "https://localhost:8080/",
          "height": 139
        },
        "id": "NEsHgeig-Puo",
        "outputId": "098739d3-b365-4ddc-d928-6225174dea81"
      },
      "outputs": [
        {
          "data": {
            "text/latex": [
              "$\\displaystyle \\left[\\begin{matrix}0 & 0 & i\\\\0 & 3 & 0\\\\- i & 0 & 0\\end{matrix}\\right]$"
            ],
            "text/plain": [
              "Matrix([\n",
              "[ 0, 0, I],\n",
              "[ 0, 3, 0],\n",
              "[-I, 0, 0]])"
            ]
          },
          "metadata": {},
          "output_type": "display_data"
        },
        {
          "data": {
            "text/latex": [
              "$\\displaystyle \\left[\\begin{matrix}\\pi & i \\pi & 0\\\\- i \\pi & 2 \\pi & \\pi\\\\0 & \\pi & 3 \\pi\\end{matrix}\\right]$"
            ],
            "text/plain": [
              "Matrix([\n",
              "[   pi, I*pi,    0],\n",
              "[-I*pi, 2*pi,   pi],\n",
              "[    0,   pi, 3*pi]])"
            ]
          },
          "metadata": {},
          "output_type": "display_data"
        }
      ],
      "source": [
        "# Definición de la matriz H\n",
        "H = Matrix([[0,0,i],[0,3,0],[-i,0,0]])\n",
        "\n",
        "# Definición de la matriz L\n",
        "L = pi*Matrix([[1,i,0],[-i,2,1],[0,1,3]])\n",
        "\n",
        "# Se enseñan ambas matrices\n",
        "display(H,L)\n"
      ]
    },
    {
      "cell_type": "markdown",
      "metadata": {
        "id": "kWy73QjaN6ho"
      },
      "source": [
        "Para ver que son hermíticos, aplicamos la función `Dagger` de SymPy a cada matriz y vemos que son la misma que antes de aplicar el operador daga. Veamos, $H^\\dagger = $"
      ]
    },
    {
      "cell_type": "code",
      "execution_count": 3,
      "metadata": {
        "colab": {
          "base_uri": "https://localhost:8080/",
          "height": 95
        },
        "id": "XMRNerIjN6hp",
        "outputId": "d58fef95-a459-451f-d31a-e3f0ae7c81ae"
      },
      "outputs": [
        {
          "data": {
            "text/latex": [
              "$\\displaystyle \\left[\\begin{matrix}0 & 0 & i\\\\0 & 3 & 0\\\\- i & 0 & 0\\end{matrix}\\right]$"
            ],
            "text/plain": [
              "Matrix([\n",
              "[ 0, 0, I],\n",
              "[ 0, 3, 0],\n",
              "[-I, 0, 0]])"
            ]
          },
          "metadata": {},
          "output_type": "display_data"
        },
        {
          "name": "stdout",
          "output_type": "stream",
          "text": [
            "True\n"
          ]
        }
      ],
      "source": [
        "# Hermiticidad de H\n",
        "display(Dagger(H))\n",
        "print(Dagger(H) == H)"
      ]
    },
    {
      "cell_type": "markdown",
      "metadata": {
        "id": "QWYBW0QJN6hq"
      },
      "source": [
        "Y $L^\\dagger = $"
      ]
    },
    {
      "cell_type": "code",
      "execution_count": 4,
      "metadata": {
        "colab": {
          "base_uri": "https://localhost:8080/",
          "height": 95
        },
        "id": "abTqNfRJN6hq",
        "outputId": "55809fa6-3920-45af-dbcd-e6ddcf845c87"
      },
      "outputs": [
        {
          "data": {
            "text/latex": [
              "$\\displaystyle \\left[\\begin{matrix}\\pi & i \\pi & 0\\\\- i \\pi & 2 \\pi & \\pi\\\\0 & \\pi & 3 \\pi\\end{matrix}\\right]$"
            ],
            "text/plain": [
              "Matrix([\n",
              "[   pi, I*pi,    0],\n",
              "[-I*pi, 2*pi,   pi],\n",
              "[    0,   pi, 3*pi]])"
            ]
          },
          "metadata": {},
          "output_type": "display_data"
        },
        {
          "name": "stdout",
          "output_type": "stream",
          "text": [
            "True\n"
          ]
        }
      ],
      "source": [
        "# Hermiticidad de L\n",
        "display(Dagger(L))\n",
        "print(Dagger(L) == L)"
      ]
    },
    {
      "cell_type": "markdown",
      "metadata": {
        "id": "v-nnWf9lN6hr"
      },
      "source": [
        "## Problema 2\n",
        "Se debe calcular el conmutador $[H,L]$. Para ello se define la función `Commutator`, que toma dos matrices $A $ y $ B$ de sympy y retorna el conmutador $[A,B]=AB-BA$."
      ]
    },
    {
      "cell_type": "code",
      "execution_count": 5,
      "metadata": {
        "colab": {
          "base_uri": "https://localhost:8080/",
          "height": 78
        },
        "id": "4LmylWSj-Puo",
        "outputId": "9a3c15bd-298f-48c0-9ad6-3d60fef3ec9b"
      },
      "outputs": [
        {
          "data": {
            "text/latex": [
              "$\\displaystyle \\left[\\begin{matrix}0 & - 2 i \\pi & 2 i \\pi\\\\- 2 i \\pi & 0 & 2 \\pi\\\\2 i \\pi & - 2 \\pi & 0\\end{matrix}\\right]$"
            ],
            "text/plain": [
              "Matrix([\n",
              "[      0, -2*I*pi, 2*I*pi],\n",
              "[-2*I*pi,       0,   2*pi],\n",
              "[ 2*I*pi,   -2*pi,      0]])"
            ]
          },
          "metadata": {},
          "output_type": "display_data"
        }
      ],
      "source": [
        "# Se define la función commutator\n",
        "def Commutator(A, B):\n",
        "    # El conmutador de A y B simplificando lo máximo posible cada una de las entradas de la matriz.\n",
        "    return (A*B - B*A).applyfunc(simplify)\n",
        "\n",
        "# Se imprime el conmutador de las matrices H y L\n",
        "display(Commutator(H,L))"
      ]
    },
    {
      "cell_type": "markdown",
      "metadata": {
        "id": "PCSaveOsN6hs"
      },
      "source": [
        "## Problema 3\n",
        "\n",
        "Para calacular los autovalores y autovectores de las matrices $H$, $L$ se crea la función `getEigen`, que recibe como entrada una matriz $M$ y retorna primero un vector columna con los autovalores de $M$ (si hay multiplicidad se repite en el vector el autovalor), y segundo **una matriz cuyas columnas son los autovectores de la matriz $M$**. Cabe aclarar que esta función emplea el método de SymPy `eigenvects` internamente."
      ]
    },
    {
      "cell_type": "code",
      "execution_count": 6,
      "metadata": {
        "id": "kfA2tu7H-Pup"
      },
      "outputs": [],
      "source": [
        "def getEigen(M):\n",
        "    # Obtiene el tamaño de la matriz M\n",
        "    m = M.shape[0]\n",
        "    # Se inicializan dos listas vacías para los autovalores (vals) y los autovectores (vects)\n",
        "    vals, vects = [], []\n",
        "\n",
        "    # Obtiene los valores propios y los vectores propios de la matriz M\n",
        "    eig = M.eigenvects()\n",
        "\n",
        "    # Itera sobre los valores propios, sus multiplicidades y los vectores propios correspondientes\n",
        "    for i in eig:\n",
        "        # Itera sobre el número de vectores propios asociados a un valor propio\n",
        "        for j in range(i[1]):\n",
        "            # Añade el valor propio expandido y simplificado a la lista de valores propios\n",
        "            vals.append(simplify(i[0].expand(complex=True)))\n",
        "            # Añade el vector propio expandido y simplificado a la lista de vectores propios\n",
        "            vects.append(simplify(i[2][j].expand(complex=True)))\n",
        "\n",
        "    # Crea una matriz de ceros del mismo tamaño que la lista de vectores propios\n",
        "    Svects = zeros(m)\n",
        "\n",
        "    # Convierte los elementos de la lista de vectores propios en objetos Matrix y los asigna a Svects\n",
        "    for i in range(len(vects)):\n",
        "        Svects[i] = Matrix(vects[i])\n",
        "\n",
        "    # Devuelve una tupla que contiene una matriz m x 1 de valores propios y una matriz m x m de vectores propios\n",
        "    return Matrix(vals), Svects"
      ]
    },
    {
      "cell_type": "markdown",
      "metadata": {
        "id": "4fQR8fqGN6ht"
      },
      "source": [
        "Ahora, habiendo definido el método, se calculan los autovalores y autovectores de $H$ y $L$:"
      ]
    },
    {
      "cell_type": "code",
      "execution_count": 7,
      "metadata": {
        "colab": {
          "base_uri": "https://localhost:8080/",
          "height": 139
        },
        "id": "V221ntjXN6ht",
        "outputId": "a2ac1b75-a471-40f4-b293-8305101a9f10"
      },
      "outputs": [
        {
          "data": {
            "text/latex": [
              "$\\displaystyle \\left[\\begin{matrix}-1\\\\1\\\\3\\end{matrix}\\right]$"
            ],
            "text/plain": [
              "Matrix([\n",
              "[-1],\n",
              "[ 1],\n",
              "[ 3]])"
            ]
          },
          "metadata": {},
          "output_type": "display_data"
        },
        {
          "data": {
            "text/latex": [
              "$\\displaystyle \\left[\\begin{matrix}- i & i & 0\\\\0 & 0 & 1\\\\1 & 1 & 0\\end{matrix}\\right]$"
            ],
            "text/plain": [
              "Matrix([\n",
              "[-I, I, 0],\n",
              "[ 0, 0, 1],\n",
              "[ 1, 1, 0]])"
            ]
          },
          "metadata": {},
          "output_type": "display_data"
        }
      ],
      "source": [
        "# Llama a la función getEigenvectsEigenvals con la matriz Htoy como argumento\n",
        "Hvals, Hvects = getEigen(H)\n",
        "\n",
        "# Muestra los valores propios y los vectores propios\n",
        "display(Hvals, Hvects)"
      ]
    },
    {
      "cell_type": "code",
      "execution_count": 8,
      "metadata": {
        "colab": {
          "base_uri": "https://localhost:8080/",
          "height": 144
        },
        "id": "oe2cyjHUN6hu",
        "outputId": "4c170a1e-90e8-437d-abfb-04ff1303b022"
      },
      "outputs": [
        {
          "data": {
            "text/latex": [
              "$\\displaystyle \\left[\\begin{matrix}2 \\pi\\\\\\pi \\left(2 - \\sqrt{3}\\right)\\\\\\pi \\left(\\sqrt{3} + 2\\right)\\end{matrix}\\right]$"
            ],
            "text/plain": [
              "Matrix([\n",
              "[            2*pi],\n",
              "[pi*(2 - sqrt(3))],\n",
              "[pi*(sqrt(3) + 2)]])"
            ]
          },
          "metadata": {},
          "output_type": "display_data"
        },
        {
          "data": {
            "text/latex": [
              "$\\displaystyle \\left[\\begin{matrix}- i & \\sqrt{3} i + 2 i & - \\sqrt{3} i + 2 i\\\\-1 & - \\sqrt{3} - 1 & -1 + \\sqrt{3}\\\\1 & 1 & 1\\end{matrix}\\right]$"
            ],
            "text/plain": [
              "Matrix([\n",
              "[-I, sqrt(3)*I + 2*I, -sqrt(3)*I + 2*I],\n",
              "[-1,    -sqrt(3) - 1,     -1 + sqrt(3)],\n",
              "[ 1,               1,                1]])"
            ]
          },
          "metadata": {},
          "output_type": "display_data"
        }
      ],
      "source": [
        "# Llama a la función getEigen con la matriz L como argumento\n",
        "Lvals, Lvects = getEigen(L)\n",
        "\n",
        "# Muestra los valores propios y los vectores propios\n",
        "display(Lvals, Lvects)"
      ]
    },
    {
      "cell_type": "markdown",
      "metadata": {
        "id": "IgheVGa3N6hu"
      },
      "source": [
        "Ahora, para obtener los autovalores **normalizados** de cada una de las matrices, se definen dos funciones. La función `getNorm` recibe un vector de Sympy y retorna su norma, calculada como $||\\vec{v}|| = \\sqrt{|v_1|^2 + \\cdots |v_n|^2}$ (la función `Abs` se sympy retorna el módulo de un complejo). Mientras que la función `Normalize` llama la función `getNorm` y retorna el vector dividido  su norma (normalizado)."
      ]
    },
    {
      "cell_type": "code",
      "execution_count": 9,
      "metadata": {
        "id": "IPpSUcE3-Pup"
      },
      "outputs": [],
      "source": [
        "def getNorm(v):\n",
        "    # Calcula la norma del vector v utilizando la suma de los cuadrados de sus componentes\n",
        "    # y toma la raíz cuadrada del resultado. Luego simplifica la expresión.\n",
        "    norm = simplify(sqrt(sum(Abs(i)**2 for i in v)).expand(complex=True))\n",
        "    return norm\n",
        "\n",
        "def Normalize(v):\n",
        "    # Calcula la norma del vector v utilizando la función getNorm definida anteriormente.\n",
        "    norm = getNorm(v)\n",
        "\n",
        "    # Normaliza el vector v dividiendo cada componente por la norma.\n",
        "    normalized_vector = simplify((v*(1/norm)).expand(complex=True))\n",
        "\n",
        "    return normalized_vector"
      ]
    },
    {
      "cell_type": "markdown",
      "metadata": {
        "id": "bMjXauFYN6hv"
      },
      "source": [
        "Simplemente falta llamar el método normalize para cada autovalor de $H$ y $L$, es decir, para cada columna de las matrices *Hvects* y *Lvects*. Para ello se escriben dos ciclos implícitos que guarden en otra matriz de sympy estos mismos autovalores normalizados."
      ]
    },
    {
      "cell_type": "code",
      "execution_count": 10,
      "metadata": {
        "colab": {
          "base_uri": "https://localhost:8080/",
          "height": 202
        },
        "id": "ZAUHk2CTN6hv",
        "outputId": "e1b5cab6-459d-4608-bd55-178993a62220"
      },
      "outputs": [
        {
          "data": {
            "text/latex": [
              "$\\displaystyle \\left[\\begin{matrix}- \\frac{\\sqrt{2} i}{2} & \\frac{\\sqrt{2} i}{2} & 0\\\\0 & 0 & 1\\\\\\frac{\\sqrt{2}}{2} & \\frac{\\sqrt{2}}{2} & 0\\end{matrix}\\right]$"
            ],
            "text/plain": [
              "Matrix([\n",
              "[-sqrt(2)*I/2, sqrt(2)*I/2, 0],\n",
              "[           0,           0, 1],\n",
              "[   sqrt(2)/2,   sqrt(2)/2, 0]])"
            ]
          },
          "metadata": {},
          "output_type": "display_data"
        },
        {
          "data": {
            "text/latex": [
              "$\\displaystyle \\left[\\begin{matrix}- \\frac{\\sqrt{3} i}{3} & \\frac{\\sqrt{-12 - 6 \\sqrt{3}}}{6} & \\frac{\\sqrt{-12 + 6 \\sqrt{3}}}{6}\\\\- \\frac{\\sqrt{3}}{3} & - \\frac{\\sqrt{6} \\left(1 + \\sqrt{3}\\right)}{6 \\sqrt{\\sqrt{3} + 2}} & \\frac{\\sqrt{6} \\left(-1 + \\sqrt{3}\\right)}{6 \\sqrt{2 - \\sqrt{3}}}\\\\\\frac{\\sqrt{3}}{3} & \\frac{\\sqrt{6}}{6 \\sqrt{\\sqrt{3} + 2}} & \\frac{\\sqrt{6}}{6 \\sqrt{2 - \\sqrt{3}}}\\end{matrix}\\right]$"
            ],
            "text/plain": [
              "Matrix([\n",
              "[-sqrt(3)*I/3,                      sqrt(-12 - 6*sqrt(3))/6,                      sqrt(-12 + 6*sqrt(3))/6],\n",
              "[  -sqrt(3)/3, -sqrt(6)*(1 + sqrt(3))/(6*sqrt(sqrt(3) + 2)), sqrt(6)*(-1 + sqrt(3))/(6*sqrt(2 - sqrt(3)))],\n",
              "[   sqrt(3)/3,                sqrt(6)/(6*sqrt(sqrt(3) + 2)),                sqrt(6)/(6*sqrt(2 - sqrt(3)))]])"
            ]
          },
          "metadata": {},
          "output_type": "display_data"
        },
        {
          "name": "stdout",
          "output_type": "stream",
          "text": [
            "\\left[\\begin{matrix}\\frac{\\sqrt{-12 + 6 \\sqrt{3}}}{6}\\\\\\frac{\\sqrt{6} \\left(-1 + \\sqrt{3}\\right)}{6 \\sqrt{2 - \\sqrt{3}}}\\\\\\frac{\\sqrt{6}}{6 \\sqrt{2 - \\sqrt{3}}}\\end{matrix}\\right]\n"
          ]
        }
      ],
      "source": [
        "# Normaliza los vectores propios de las matrices H y L\n",
        "NHvects = Matrix([Normalize(Hvects.col(v)) for v in range(Hvects.shape[1])]).reshape(*Hvects.shape).T\n",
        "NLvects = Matrix([Normalize(Lvects.col(v)) for v in range(Lvects.shape[1])]).reshape(*Lvects.shape).T\n",
        "\n",
        "# Al final se transpone porque por defecto de almacenan vectores como filas\n",
        "\n",
        "# Muestra los vectores propios normalizados de H y L\n",
        "display(NHvects, NLvects)\n",
        "\n",
        "print(latex(NLvects.col(2)))"
      ]
    },
    {
      "cell_type": "markdown",
      "metadata": {
        "id": "NIMHs5CuN6hv"
      },
      "source": [
        "Para verificar (si se desea) que los vectores propios están normalizados, se llama la función `getNorm` con alguna de las columnas de las matrices anteriores como entrada. Por ejemplo:"
      ]
    },
    {
      "cell_type": "code",
      "execution_count": 11,
      "metadata": {
        "colab": {
          "base_uri": "https://localhost:8080/",
          "height": 134
        },
        "id": "FzuwFzy0N6hw",
        "outputId": "4c581fda-a777-49af-cec5-ed22bc4f7c54"
      },
      "outputs": [
        {
          "data": {
            "text/latex": [
              "$\\displaystyle \\left[\\begin{matrix}\\frac{\\sqrt{-12 + 6 \\sqrt{3}}}{6}\\\\\\frac{\\sqrt{6} \\left(-1 + \\sqrt{3}\\right)}{6 \\sqrt{2 - \\sqrt{3}}}\\\\\\frac{\\sqrt{6}}{6 \\sqrt{2 - \\sqrt{3}}}\\end{matrix}\\right]$"
            ],
            "text/plain": [
              "Matrix([\n",
              "[                     sqrt(-12 + 6*sqrt(3))/6],\n",
              "[sqrt(6)*(-1 + sqrt(3))/(6*sqrt(2 - sqrt(3)))],\n",
              "[               sqrt(6)/(6*sqrt(2 - sqrt(3)))]])"
            ]
          },
          "metadata": {},
          "output_type": "display_data"
        },
        {
          "data": {
            "text/latex": [
              "$\\displaystyle 1$"
            ],
            "text/plain": [
              "1"
            ]
          },
          "metadata": {},
          "output_type": "display_data"
        }
      ],
      "source": [
        "# Se enseña el tercer autovector normalizado de L\n",
        "display(NLvects.col(2))\n",
        "\n",
        "# Se enseña la norma de este vector\n",
        "display(getNorm(NLvects.col(2)))"
      ]
    },
    {
      "cell_type": "markdown",
      "metadata": {
        "id": "NOZeGIUXN6hw"
      },
      "source": [
        "Si además se desea visualizar de forma numérica alguno de los vectores, se utiliza el método `evalf(n)`de SymPy que evalua una expresión con los $n$ decimales que de requieran como entrada."
      ]
    },
    {
      "cell_type": "markdown",
      "metadata": {
        "id": "-Z0NN1yrN6hw"
      },
      "source": [
        "## Punto 6\n",
        "\n",
        "En el numeral 3 se derivaron los conjuntos base formados por los autovectores normalizados de cada matriz. Como conjunto, las bases $B_H$ y $B_L$ son entonces:\n",
        "\n",
        "\\begin{equation}\n",
        "    B_H = \\left\\{\\left[\\begin{matrix}- \\frac{\\sqrt{2} i}{2}\\\\0\\\\\\frac{\\sqrt{2}}{2}\\end{matrix}\\right], \\left[\\begin{matrix}\\frac{\\sqrt{2} i}{2}\\\\0\\\\\\frac{\\sqrt{2}}{2}\\end{matrix}\\right], \\left[\\begin{matrix}\n",
        "        0\\\\ 1\\\\ 0\n",
        "    \\end{matrix}\\right] \\right\\}, \\quad B_L = \\left\\{\\left[\\begin{matrix}- \\frac{\\sqrt{3} i}{3}\\\\- \\frac{\\sqrt{3}}{3}\\\\\\frac{\\sqrt{3}}{3}\\end{matrix}\\right], \\left[\\begin{matrix}\\frac{\\sqrt{-12 - 6 \\sqrt{3}}}{6}\\\\- \\frac{\\sqrt{6} \\left(1 + \\sqrt{3}\\right)}{6 \\sqrt{\\sqrt{3} + 2}}\\\\\\frac{\\sqrt{6}}{6 \\sqrt{\\sqrt{3} + 2}}\\end{matrix}\\right],\\left[\\begin{matrix}\\frac{\\sqrt{-12 + 6 \\sqrt{3}}}{6}\\\\\\frac{\\sqrt{6} \\left(-1 + \\sqrt{3}\\right)}{6 \\sqrt{2 - \\sqrt{3}}}\\\\\\frac{\\sqrt{6}}{6 \\sqrt{2 - \\sqrt{3}}}\\end{matrix}\\right] \\right\\}\n",
        "\\end{equation}\n",
        "\n",
        "Para demostrar que en efecto estos dos conjuntos representan **bases ortonormales** para el espacio $\\mathbb{C}^3$, se debe probar la completez y ortonormalidad de cada conjunto. Se define inicialmente la función `InnerProd` que toma dos vectores $v,w$ y retorna $\\braket{v|w} = v^\\dagger w$."
      ]
    },
    {
      "cell_type": "code",
      "execution_count": 12,
      "metadata": {
        "id": "lbuolewxRKIK"
      },
      "outputs": [],
      "source": [
        "def InnerProd(v, w):\n",
        "    # (Dagger(v)*w) realiza la multiplicación matricial del conjugado transpuesto de v con w.\n",
        "    # [0] extrae el primer elemento del resultado de la multiplicación, ya que el resultado es una matriz de una sola fila y columna.\n",
        "    return ((Dagger(v) * w)[0].evalf())\n"
      ]
    },
    {
      "cell_type": "markdown",
      "metadata": {
        "id": "zIGcm7YiN6hx"
      },
      "source": [
        "Ahora, para verificar la **ortonormalidad** de cada conjunto, se crea la función `ONverification`, que imprime cada una de las combinaciones de los productos internos de las columnas de una matriz de entrada $M$."
      ]
    },
    {
      "cell_type": "code",
      "execution_count": 13,
      "metadata": {
        "id": "4zyKM9ipN6hx"
      },
      "outputs": [],
      "source": [
        "def ON(M):\n",
        "    for i in range(M.shape[1]):\n",
        "        for j in range(M.shape[1]):\n",
        "            print('El producto interno del vector ' + str(i+1) + ' con el vector ' + str(j+1) + ' es: ' + str(InnerProd(M.col(i), M.col(j))))"
      ]
    },
    {
      "cell_type": "markdown",
      "metadata": {
        "id": "J-eZ7S4CN6hx"
      },
      "source": [
        "Como las matrices *NHvects* y *NLvects* tienen en sus columnas los vectores de sus respectivas bases, simplemente se llama a la función anterior con cada matriz."
      ]
    },
    {
      "cell_type": "code",
      "execution_count": 14,
      "metadata": {
        "colab": {
          "base_uri": "https://localhost:8080/"
        },
        "id": "OtM_wQJMN6hx",
        "outputId": "d4bdfdf9-4fdd-4bca-8266-2ee541f76580"
      },
      "outputs": [
        {
          "name": "stdout",
          "output_type": "stream",
          "text": [
            "El producto interno del vector 1 con el vector 1 es: 1.00000000000000\n",
            "El producto interno del vector 1 con el vector 2 es: 0\n",
            "El producto interno del vector 1 con el vector 3 es: 0\n",
            "El producto interno del vector 2 con el vector 1 es: 0\n",
            "El producto interno del vector 2 con el vector 2 es: 1.00000000000000\n",
            "El producto interno del vector 2 con el vector 3 es: 0\n",
            "El producto interno del vector 3 con el vector 1 es: 0\n",
            "El producto interno del vector 3 con el vector 2 es: 0\n",
            "El producto interno del vector 3 con el vector 3 es: 1.00000000000000\n"
          ]
        }
      ],
      "source": [
        "# Verificación de la ortonormalidad de H\n",
        "ON(NHvects)"
      ]
    },
    {
      "cell_type": "code",
      "execution_count": 15,
      "metadata": {
        "colab": {
          "base_uri": "https://localhost:8080/"
        },
        "id": "f6Sp-sWJN6hy",
        "outputId": "5a46620a-f66a-4e12-f35f-860b5ba5ff0a"
      },
      "outputs": [
        {
          "name": "stdout",
          "output_type": "stream",
          "text": [
            "El producto interno del vector 1 con el vector 1 es: 1.00000000000000\n",
            "El producto interno del vector 1 con el vector 2 es: 0.e-125\n",
            "El producto interno del vector 1 con el vector 3 es: 0.e-125\n",
            "El producto interno del vector 2 con el vector 1 es: 0.e-125\n",
            "El producto interno del vector 2 con el vector 2 es: 1.00000000000000\n",
            "El producto interno del vector 2 con el vector 3 es: 0.e-125\n",
            "El producto interno del vector 3 con el vector 1 es: 0.e-125\n",
            "El producto interno del vector 3 con el vector 2 es: 0.e-125\n",
            "El producto interno del vector 3 con el vector 3 es: 1.00000000000000\n"
          ]
        }
      ],
      "source": [
        "# Verificación de la ortonormalidad de L\n",
        "ON(NLvects)"
      ]
    },
    {
      "cell_type": "markdown",
      "metadata": {
        "id": "P_waLwqUN6hz"
      },
      "source": [
        "Claramente la evaluación en punto flotante de las expresiones radicales de los autovectores induce un mínimo error numérico. No obastante, es del orden de $10^{-125}$, luego, se puede afirmar que ambas bases son ortonormales.\n",
        "\n",
        "Por otro lado, se debe verificar la completez de cada una de las bases. Esta demostración es equivalente a enseñar que la suma de todos los **proyectores** de la base suman a la matriz identidad. Es decir, para $H$ se debe ver que:\n",
        "\n",
        "\\begin{equation}\n",
        "    \\sum_{i=1}^3 \\ket{h_i}\\bra{h_i} = \\mathcal{I}_3\n",
        "\\end{equation}\n",
        "\n",
        "al igual que para $L$.\n",
        "\n",
        "El primer paso es crear un método que retorne los proyectores de un conjunto (matriz) de vectores base. La función `getProjectors` hace justo eso, computando el ket-bra para cada columna de una matriz de entrada."
      ]
    },
    {
      "cell_type": "code",
      "execution_count": 16,
      "metadata": {
        "id": "00U-RSIRQJQF"
      },
      "outputs": [],
      "source": [
        "def getProjectors(M):\n",
        "    # Retorna una lista con los proyectores en sus componentes (en el orden de las columnas de la matriz)\n",
        "    return [M.col(i) * Dagger(M.col(i)) for i in range(M.shape[1])]"
      ]
    },
    {
      "cell_type": "markdown",
      "metadata": {
        "id": "eTRolsTAN6h0"
      },
      "source": [
        "Ahora, para hallar los proyectores de caada base, solo es cuestión de llamar este método con las matrices *Hvects* y *Lvects* y mostrar cada uno de los elementos de la lista resultante."
      ]
    },
    {
      "cell_type": "code",
      "execution_count": 17,
      "metadata": {
        "colab": {
          "base_uri": "https://localhost:8080/",
          "height": 201
        },
        "id": "btkZ0Ji3N6h0",
        "outputId": "48e493f1-cf4b-45f9-b273-285debfd8279"
      },
      "outputs": [
        {
          "data": {
            "text/latex": [
              "$\\displaystyle \\left[\\begin{matrix}\\frac{1}{2} & 0 & - \\frac{i}{2}\\\\0 & 0 & 0\\\\\\frac{i}{2} & 0 & \\frac{1}{2}\\end{matrix}\\right]$"
            ],
            "text/plain": [
              "Matrix([\n",
              "[1/2, 0, -I/2],\n",
              "[  0, 0,    0],\n",
              "[I/2, 0,  1/2]])"
            ]
          },
          "metadata": {},
          "output_type": "display_data"
        },
        {
          "data": {
            "text/latex": [
              "$\\displaystyle \\left[\\begin{matrix}\\frac{1}{2} & 0 & \\frac{i}{2}\\\\0 & 0 & 0\\\\- \\frac{i}{2} & 0 & \\frac{1}{2}\\end{matrix}\\right]$"
            ],
            "text/plain": [
              "Matrix([\n",
              "[ 1/2, 0, I/2],\n",
              "[   0, 0,   0],\n",
              "[-I/2, 0, 1/2]])"
            ]
          },
          "metadata": {},
          "output_type": "display_data"
        },
        {
          "data": {
            "text/latex": [
              "$\\displaystyle \\left[\\begin{matrix}0 & 0 & 0\\\\0 & 1 & 0\\\\0 & 0 & 0\\end{matrix}\\right]$"
            ],
            "text/plain": [
              "Matrix([\n",
              "[0, 0, 0],\n",
              "[0, 1, 0],\n",
              "[0, 0, 0]])"
            ]
          },
          "metadata": {},
          "output_type": "display_data"
        }
      ],
      "source": [
        "# Proyectores de NHvects (H)\n",
        "ProyNH = getProjectors(NHvects)\n",
        "display(ProyNH[0], ProyNH[1], ProyNH[2])"
      ]
    },
    {
      "cell_type": "code",
      "execution_count": 18,
      "metadata": {
        "colab": {
          "base_uri": "https://localhost:8080/",
          "height": 306
        },
        "id": "PMjARxouN6h0",
        "outputId": "526ba5ac-5106-4807-9d9e-c15acdb47f9e"
      },
      "outputs": [
        {
          "data": {
            "text/latex": [
              "$\\displaystyle \\left[\\begin{matrix}\\frac{1}{3} & \\frac{i}{3} & - \\frac{i}{3}\\\\- \\frac{i}{3} & \\frac{1}{3} & - \\frac{1}{3}\\\\\\frac{i}{3} & - \\frac{1}{3} & \\frac{1}{3}\\end{matrix}\\right]$"
            ],
            "text/plain": [
              "Matrix([\n",
              "[ 1/3,  I/3, -I/3],\n",
              "[-I/3,  1/3, -1/3],\n",
              "[ I/3, -1/3,  1/3]])"
            ]
          },
          "metadata": {},
          "output_type": "display_data"
        },
        {
          "data": {
            "text/latex": [
              "$\\displaystyle \\left[\\begin{matrix}- \\frac{i \\sqrt{-12 - 6 \\sqrt{3}} \\sqrt{6 \\sqrt{3} + 12}}{36} & - \\frac{\\sqrt{6} \\sqrt{-12 - 6 \\sqrt{3}} \\left(1 + \\sqrt{3}\\right)}{36 \\sqrt{\\sqrt{3} + 2}} & \\frac{\\sqrt{6} \\sqrt{-12 - 6 \\sqrt{3}}}{36 \\sqrt{\\sqrt{3} + 2}}\\\\\\frac{\\sqrt{6} i \\left(1 + \\sqrt{3}\\right) \\sqrt{6 \\sqrt{3} + 12}}{36 \\sqrt{\\sqrt{3} + 2}} & \\frac{\\left(1 + \\sqrt{3}\\right)^{2}}{6 \\left(\\sqrt{3} + 2\\right)} & - \\frac{1 + \\sqrt{3}}{6 \\left(\\sqrt{3} + 2\\right)}\\\\- \\frac{\\sqrt{6} i \\sqrt{6 \\sqrt{3} + 12}}{36 \\sqrt{\\sqrt{3} + 2}} & - \\frac{1 + \\sqrt{3}}{6 \\left(\\sqrt{3} + 2\\right)} & \\frac{1}{6 \\left(\\sqrt{3} + 2\\right)}\\end{matrix}\\right]$"
            ],
            "text/plain": [
              "Matrix([\n",
              "[                   -I*sqrt(-12 - 6*sqrt(3))*sqrt(6*sqrt(3) + 12)/36, -sqrt(6)*sqrt(-12 - 6*sqrt(3))*(1 + sqrt(3))/(36*sqrt(sqrt(3) + 2)), sqrt(6)*sqrt(-12 - 6*sqrt(3))/(36*sqrt(sqrt(3) + 2))],\n",
              "[sqrt(6)*I*(1 + sqrt(3))*sqrt(6*sqrt(3) + 12)/(36*sqrt(sqrt(3) + 2)),                                  (1 + sqrt(3))**2/(6*(sqrt(3) + 2)),                     -(1 + sqrt(3))/(6*(sqrt(3) + 2))],\n",
              "[             -sqrt(6)*I*sqrt(6*sqrt(3) + 12)/(36*sqrt(sqrt(3) + 2)),                                    -(1 + sqrt(3))/(6*(sqrt(3) + 2)),                                  1/(6*(sqrt(3) + 2))]])"
            ]
          },
          "metadata": {},
          "output_type": "display_data"
        },
        {
          "data": {
            "text/latex": [
              "$\\displaystyle \\left[\\begin{matrix}- \\frac{i \\sqrt{-12 + 6 \\sqrt{3}} \\sqrt{12 - 6 \\sqrt{3}}}{36} & \\frac{\\sqrt{6} \\sqrt{-12 + 6 \\sqrt{3}} \\left(-1 + \\sqrt{3}\\right)}{36 \\sqrt{2 - \\sqrt{3}}} & \\frac{\\sqrt{6} \\sqrt{-12 + 6 \\sqrt{3}}}{36 \\sqrt{2 - \\sqrt{3}}}\\\\- \\frac{\\sqrt{6} i \\left(-1 + \\sqrt{3}\\right) \\sqrt{12 - 6 \\sqrt{3}}}{36 \\sqrt{2 - \\sqrt{3}}} & \\frac{\\left(-1 + \\sqrt{3}\\right)^{2}}{6 \\left(2 - \\sqrt{3}\\right)} & \\frac{-1 + \\sqrt{3}}{6 \\left(2 - \\sqrt{3}\\right)}\\\\- \\frac{\\sqrt{6} i \\sqrt{12 - 6 \\sqrt{3}}}{36 \\sqrt{2 - \\sqrt{3}}} & \\frac{-1 + \\sqrt{3}}{6 \\left(2 - \\sqrt{3}\\right)} & \\frac{1}{6 \\left(2 - \\sqrt{3}\\right)}\\end{matrix}\\right]$"
            ],
            "text/plain": [
              "Matrix([\n",
              "[                     -I*sqrt(-12 + 6*sqrt(3))*sqrt(12 - 6*sqrt(3))/36, sqrt(6)*sqrt(-12 + 6*sqrt(3))*(-1 + sqrt(3))/(36*sqrt(2 - sqrt(3))), sqrt(6)*sqrt(-12 + 6*sqrt(3))/(36*sqrt(2 - sqrt(3)))],\n",
              "[-sqrt(6)*I*(-1 + sqrt(3))*sqrt(12 - 6*sqrt(3))/(36*sqrt(2 - sqrt(3))),                                 (-1 + sqrt(3))**2/(6*(2 - sqrt(3))),                     (-1 + sqrt(3))/(6*(2 - sqrt(3)))],\n",
              "[               -sqrt(6)*I*sqrt(12 - 6*sqrt(3))/(36*sqrt(2 - sqrt(3))),                                    (-1 + sqrt(3))/(6*(2 - sqrt(3))),                                  1/(6*(2 - sqrt(3)))]])"
            ]
          },
          "metadata": {},
          "output_type": "display_data"
        }
      ],
      "source": [
        "# Proyectores de NLvects (L)\n",
        "ProyNL = getProjectors(NLvects)\n",
        "display(ProyNL[0], ProyNL[1], ProyNL[2])"
      ]
    },
    {
      "cell_type": "markdown",
      "metadata": {
        "id": "Ewo5QeC2N6h1"
      },
      "source": [
        "Para comprender mejor los proyectores de los autokets normalizados de $L$, evaluemos numéricamente los últimos dos:"
      ]
    },
    {
      "cell_type": "code",
      "execution_count": 19,
      "metadata": {
        "colab": {
          "base_uri": "https://localhost:8080/",
          "height": 201
        },
        "id": "o-B7_kvTN6h1",
        "outputId": "138773b0-279f-4961-e5df-9415e4b23363"
      },
      "outputs": [
        {
          "data": {
            "text/latex": [
              "$\\displaystyle \\left[\\begin{matrix}\\frac{1}{3} & \\frac{i}{3} & - \\frac{i}{3}\\\\- \\frac{i}{3} & \\frac{1}{3} & - \\frac{1}{3}\\\\\\frac{i}{3} & - \\frac{1}{3} & \\frac{1}{3}\\end{matrix}\\right]$"
            ],
            "text/plain": [
              "Matrix([\n",
              "[ 1/3,  I/3, -I/3],\n",
              "[-I/3,  1/3, -1/3],\n",
              "[ I/3, -1/3,  1/3]])"
            ]
          },
          "metadata": {},
          "output_type": "display_data"
        },
        {
          "data": {
            "text/latex": [
              "$\\displaystyle \\left[\\begin{matrix}0.622 & - 0.455 i & 0.167 i\\\\0.455 i & 0.333 & -0.122\\\\- 0.167 i & -0.122 & 0.0447\\end{matrix}\\right]$"
            ],
            "text/plain": [
              "Matrix([\n",
              "[   0.622, -0.455*I, 0.167*I],\n",
              "[ 0.455*I,    0.333,  -0.122],\n",
              "[-0.167*I,   -0.122,  0.0447]])"
            ]
          },
          "metadata": {},
          "output_type": "display_data"
        },
        {
          "data": {
            "text/latex": [
              "$\\displaystyle \\left[\\begin{matrix}0.0447 & 0.122 i & 0.167 i\\\\- 0.122 i & 0.333 & 0.455\\\\- 0.167 i & 0.455 & 0.622\\end{matrix}\\right]$"
            ],
            "text/plain": [
              "Matrix([\n",
              "[  0.0447, 0.122*I, 0.167*I],\n",
              "[-0.122*I,   0.333,   0.455],\n",
              "[-0.167*I,   0.455,   0.622]])"
            ]
          },
          "metadata": {},
          "output_type": "display_data"
        }
      ],
      "source": [
        "display(ProyNL[0], ProyNL[1].evalf(3), ProyNL[2].evalf(3))"
      ]
    },
    {
      "cell_type": "markdown",
      "metadata": {
        "id": "wdG_rjf8N6h2"
      },
      "source": [
        "Ahora, para verificar la completez, falta hacer la suma de los proyectores de $B_H$ y $B_L$. Sumando para $B_H$ los proyectores obtenidos:"
      ]
    },
    {
      "cell_type": "code",
      "execution_count": 20,
      "metadata": {
        "colab": {
          "base_uri": "https://localhost:8080/",
          "height": 78
        },
        "id": "m6sgvjA1-Puq",
        "outputId": "1fbdeba5-12dd-402f-fffe-0123c6da1496"
      },
      "outputs": [
        {
          "data": {
            "text/latex": [
              "$\\displaystyle \\left[\\begin{matrix}1 & 0 & 0\\\\0 & 1 & 0\\\\0 & 0 & 1\\end{matrix}\\right]$"
            ],
            "text/plain": [
              "Matrix([\n",
              "[1, 0, 0],\n",
              "[0, 1, 0],\n",
              "[0, 0, 1]])"
            ]
          },
          "metadata": {},
          "output_type": "display_data"
        }
      ],
      "source": [
        "# Suma de proyectores de la base H\n",
        "display(ProyNH[0] + ProyNH[1] + ProyNH[2])"
      ]
    },
    {
      "cell_type": "code",
      "execution_count": 21,
      "metadata": {
        "colab": {
          "base_uri": "https://localhost:8080/",
          "height": 78
        },
        "id": "8MQq4t9LN6h2",
        "outputId": "563af293-301b-437b-b6d3-4d1579fdefb6"
      },
      "outputs": [
        {
          "data": {
            "text/latex": [
              "$\\displaystyle \\left[\\begin{matrix}1 & 0 & 0\\\\0 & 1 & 0\\\\0 & 0 & 1\\end{matrix}\\right]$"
            ],
            "text/plain": [
              "Matrix([\n",
              "[1, 0, 0],\n",
              "[0, 1, 0],\n",
              "[0, 0, 1]])"
            ]
          },
          "metadata": {},
          "output_type": "display_data"
        }
      ],
      "source": [
        "# Suma de proyectores de la base L\n",
        "display(simplify((ProyNL[0] + ProyNL[1] + ProyNL[2]).expand(complex=True)))"
      ]
    },
    {
      "cell_type": "markdown",
      "metadata": {
        "id": "FKTVvdozN6h8"
      },
      "source": [
        "Entonces, como en ambos casos se obtuvo la matriz identidad de orden 3, se puede afirmar que $B_H$ y $B_L$ son bases completas ortonormales para $\\mathbb{C}^3$."
      ]
    },
    {
      "cell_type": "markdown",
      "metadata": {
        "id": "gWdQ2IP3N6h9"
      },
      "source": [
        "## Punto 7\n",
        "\n",
        "En este punto de debe calcular la matriz de transformación $U_{H\\rightarrow L} = U$ que reescriba cualquier vector en la base $B_H$ al respectivo vector en la base $B_L$. Aunque el desarrollo matemático se realiza de forma explícita en el documento *.pdf* adjunto a este código, lo mas importante de ver es que la matriz de transformción $U$ viene dada por el producto de la matriz de autovectores normaizados de $H$ por la invesa de la matriz de los autovectores normalizados de $L$. Es decir,  $U =$ *HNvects* $\\times$ *LNvects*$^{-1}$.\n",
        "\n",
        "Haciendo este producto:"
      ]
    },
    {
      "cell_type": "code",
      "execution_count": 22,
      "metadata": {
        "colab": {
          "base_uri": "https://localhost:8080/",
          "height": 103
        },
        "id": "Mf4yku7yX2Rd",
        "outputId": "60a65ab1-dbcb-4d5b-e7be-6a07758fa6c8"
      },
      "outputs": [
        {
          "data": {
            "text/latex": [
              "$\\displaystyle \\left[\\begin{matrix}\\frac{\\sqrt{6}}{3} & 0 & - \\frac{\\sqrt{3}}{3}\\\\- \\frac{\\sqrt{3} + 3}{6 \\sqrt{\\sqrt{3} + 2}} & \\frac{1 + \\sqrt{3}}{2 \\sqrt{\\sqrt{3} + 2}} & - \\frac{5 \\sqrt{6} + 9 \\sqrt{2}}{6 \\left(\\sqrt{3} + 2\\right)^{\\frac{3}{2}}}\\\\\\frac{\\sqrt{2 - \\sqrt{3}} \\left(\\sqrt{3} + 3\\right)}{6} & \\frac{\\left(1 + \\sqrt{3}\\right) \\sqrt{2 - \\sqrt{3}}}{2} & \\frac{\\sqrt{2 - \\sqrt{3}} \\left(\\sqrt{6} + 3 \\sqrt{2}\\right)}{6}\\end{matrix}\\right]$"
            ],
            "text/plain": [
              "Matrix([\n",
              "[                           sqrt(6)/3,                                   0,                                        -sqrt(3)/3],\n",
              "[-(sqrt(3) + 3)/(6*sqrt(sqrt(3) + 2)), (1 + sqrt(3))/(2*sqrt(sqrt(3) + 2)), -(5*sqrt(6) + 9*sqrt(2))/(6*(sqrt(3) + 2)**(3/2))],\n",
              "[   sqrt(2 - sqrt(3))*(sqrt(3) + 3)/6,   (1 + sqrt(3))*sqrt(2 - sqrt(3))/2,         sqrt(2 - sqrt(3))*(sqrt(6) + 3*sqrt(2))/6]])"
            ]
          },
          "metadata": {},
          "output_type": "display_data"
        }
      ],
      "source": [
        "U = simplify((NLvects.inv() * NHvects).expand(complex==True))\n",
        "\n",
        "# Se muestra la matriz U\n",
        "display(U)"
      ]
    },
    {
      "cell_type": "markdown",
      "metadata": {
        "id": "SefFyuYRN6h9"
      },
      "source": [
        "Ahora, se debe verificar que esta matriz es **unitaria**. Para ello, se calculan $U^{-1}$ y $U^\\dagger$ y se verifica que $U^{-1} = U^\\dagger \\iff U^{-1} - U^\\dagger = \\mathcal{O}_3$."
      ]
    },
    {
      "cell_type": "code",
      "execution_count": 23,
      "metadata": {
        "colab": {
          "base_uri": "https://localhost:8080/",
          "height": 244
        },
        "id": "09jWzbPxN6h9",
        "outputId": "21ab2a28-8cf9-4c20-d41e-f2812714d142"
      },
      "outputs": [
        {
          "data": {
            "text/latex": [
              "$\\displaystyle \\left[\\begin{matrix}\\frac{\\sqrt{6}}{3} & - \\frac{\\sqrt{\\sqrt{3} + 2}}{2} + \\frac{\\sqrt{3} \\sqrt{\\sqrt{3} + 2}}{6} & \\frac{5 \\sqrt{3} + 9}{6 \\sqrt{2 - \\sqrt{3}} \\left(4 \\sqrt{3} + 7\\right)}\\\\0 & \\frac{56 \\sqrt{3} + 97}{\\left(71 + 41 \\sqrt{3}\\right) \\sqrt{\\sqrt{3} + 2}} & \\frac{4 \\sqrt{3} + 7}{\\sqrt{2 - \\sqrt{3}} \\left(19 + 11 \\sqrt{3}\\right)}\\\\- \\frac{\\sqrt{3}}{3} & - \\frac{\\sqrt{2} \\sqrt{\\sqrt{3} + 2}}{2} + \\frac{\\sqrt{6} \\sqrt{\\sqrt{3} + 2}}{6} & \\frac{5 \\sqrt{2} + 3 \\sqrt{6}}{2 \\sqrt{2 - \\sqrt{3}} \\left(12 + 7 \\sqrt{3}\\right)}\\end{matrix}\\right]$"
            ],
            "text/plain": [
              "Matrix([\n",
              "[ sqrt(6)/3,         -sqrt(sqrt(3) + 2)/2 + sqrt(3)*sqrt(sqrt(3) + 2)/6,          (5*sqrt(3) + 9)/(6*sqrt(2 - sqrt(3))*(4*sqrt(3) + 7))],\n",
              "[         0,    (56*sqrt(3) + 97)/((71 + 41*sqrt(3))*sqrt(sqrt(3) + 2)),          (4*sqrt(3) + 7)/(sqrt(2 - sqrt(3))*(19 + 11*sqrt(3)))],\n",
              "[-sqrt(3)/3, -sqrt(2)*sqrt(sqrt(3) + 2)/2 + sqrt(6)*sqrt(sqrt(3) + 2)/6, (5*sqrt(2) + 3*sqrt(6))/(2*sqrt(2 - sqrt(3))*(12 + 7*sqrt(3)))]])"
            ]
          },
          "metadata": {},
          "output_type": "display_data"
        },
        {
          "data": {
            "text/latex": [
              "$\\displaystyle \\left[\\begin{matrix}\\frac{\\sqrt{6}}{3} & - \\frac{\\sqrt{3} + 3}{6 \\sqrt{\\sqrt{3} + 2}} & \\frac{\\sqrt{2 - \\sqrt{3}} \\left(\\sqrt{3} + 3\\right)}{6}\\\\0 & \\frac{1 + \\sqrt{3}}{2 \\sqrt{\\sqrt{3} + 2}} & \\frac{\\left(1 + \\sqrt{3}\\right) \\sqrt{2 - \\sqrt{3}}}{2}\\\\- \\frac{\\sqrt{3}}{3} & - \\frac{5 \\sqrt{6} + 9 \\sqrt{2}}{6 \\left(\\sqrt{3} + 2\\right)^{\\frac{3}{2}}} & \\frac{\\sqrt{2 - \\sqrt{3}} \\left(\\sqrt{6} + 3 \\sqrt{2}\\right)}{6}\\end{matrix}\\right]$"
            ],
            "text/plain": [
              "Matrix([\n",
              "[ sqrt(6)/3,              -(sqrt(3) + 3)/(6*sqrt(sqrt(3) + 2)),         sqrt(2 - sqrt(3))*(sqrt(3) + 3)/6],\n",
              "[         0,               (1 + sqrt(3))/(2*sqrt(sqrt(3) + 2)),         (1 + sqrt(3))*sqrt(2 - sqrt(3))/2],\n",
              "[-sqrt(3)/3, -(5*sqrt(6) + 9*sqrt(2))/(6*(sqrt(3) + 2)**(3/2)), sqrt(2 - sqrt(3))*(sqrt(6) + 3*sqrt(2))/6]])"
            ]
          },
          "metadata": {},
          "output_type": "display_data"
        }
      ],
      "source": [
        "# Se calcula la inversa de U\n",
        "Uinv = simplify(U.inv())\n",
        "display(Uinv)\n",
        "\n",
        "# Se calcula la matriz adjunta de U\n",
        "Udagger = Dagger(U)\n",
        "display(Udagger)"
      ]
    },
    {
      "cell_type": "markdown",
      "metadata": {
        "id": "fQOUp4lWN6h-"
      },
      "source": [
        "Y Aunque las dos matrices por inspección parezcan diferentes, será su resta quien verificará su hermiticidad:"
      ]
    },
    {
      "cell_type": "code",
      "execution_count": 24,
      "metadata": {
        "colab": {
          "base_uri": "https://localhost:8080/",
          "height": 78
        },
        "id": "J-73_QU9N6h-",
        "outputId": "15997fc2-5fd3-4ef4-eb71-5ca10b0b39fb"
      },
      "outputs": [
        {
          "data": {
            "text/latex": [
              "$\\displaystyle \\left[\\begin{matrix}0 & 0 & 0\\\\0 & 0 & 0\\\\0 & 0 & 0\\end{matrix}\\right]$"
            ],
            "text/plain": [
              "Matrix([\n",
              "[0, 0, 0],\n",
              "[0, 0, 0],\n",
              "[0, 0, 0]])"
            ]
          },
          "metadata": {},
          "output_type": "display_data"
        }
      ],
      "source": [
        "display(simplify(Uinv - Udagger))"
      ]
    },
    {
      "cell_type": "markdown",
      "metadata": {
        "id": "yt7G_a39N6h-"
      },
      "source": [
        "Ya habiendo verificado que $U^\\dagger = U^{-1}$, esta claro que $U^\\dagger U = \\mathcal{I}_3$. Verificae este hecho es sencillo:"
      ]
    },
    {
      "cell_type": "code",
      "execution_count": 25,
      "metadata": {
        "colab": {
          "base_uri": "https://localhost:8080/",
          "height": 78
        },
        "id": "zRfoJU850Y6I",
        "outputId": "345285cb-2d45-462f-9276-36dcc87be0dc"
      },
      "outputs": [
        {
          "data": {
            "text/latex": [
              "$\\displaystyle \\left[\\begin{matrix}1 & 0 & 0\\\\0 & 1 & 0\\\\0 & 0 & 1\\end{matrix}\\right]$"
            ],
            "text/plain": [
              "Matrix([\n",
              "[1, 0, 0],\n",
              "[0, 1, 0],\n",
              "[0, 0, 1]])"
            ]
          },
          "metadata": {},
          "output_type": "display_data"
        }
      ],
      "source": [
        "display(simplify(Udagger * U))"
      ]
    },
    {
      "cell_type": "markdown",
      "metadata": {
        "id": "o3QWLv-oN6h_"
      },
      "source": [
        "Ahora bien, para finalmente reescribir la matriz $H$ en términos de la base $B_L$, se calcula la transformación $H' = H_L = UHU^\\dagger$:"
      ]
    },
    {
      "cell_type": "code",
      "execution_count": 26,
      "metadata": {
        "colab": {
          "base_uri": "https://localhost:8080/",
          "height": 122
        },
        "id": "sNKvqkDC05Uw",
        "outputId": "1cd60657-5806-4064-b507-64d9bee93a13"
      },
      "outputs": [
        {
          "data": {
            "text/latex": [
              "$\\displaystyle \\left[\\begin{matrix}0 & - \\frac{i \\left(5 + 3 \\sqrt{3}\\right)}{2 \\left(\\sqrt{3} + 2\\right)^{\\frac{3}{2}}} & \\frac{\\sqrt{-2 + \\sqrt{3}} \\left(1 + \\sqrt{3}\\right)}{2}\\\\\\frac{i \\left(5 + 3 \\sqrt{3}\\right)}{2 \\left(\\sqrt{3} + 2\\right)^{\\frac{3}{2}}} & \\frac{3}{2} & \\frac{\\frac{\\left(\\sqrt{3} + 2\\right)^{3} \\left(9 \\sqrt{6 - 3 \\sqrt{3}} + 18 \\sqrt{2 - \\sqrt{3}} - 2 \\sqrt{-4 + 2 \\sqrt{3}} - \\sqrt{-12 + 6 \\sqrt{3}}\\right)}{6} + \\frac{2 \\sqrt{6} i \\left(\\sqrt{3} + 2\\right)^{\\frac{3}{2}}}{3} + \\frac{7 \\sqrt{2} i \\left(\\sqrt{3} + 2\\right)^{\\frac{3}{2}}}{6}}{\\left(\\sqrt{3} + 2\\right)^{\\frac{7}{2}}}\\\\- \\frac{i \\left(1 + \\sqrt{3}\\right) \\sqrt{2 - \\sqrt{3}}}{2} & \\frac{84 \\sqrt{6 - 3 \\sqrt{3}} + \\frac{291 \\sqrt{2 - \\sqrt{3}}}{2} - \\frac{13 \\sqrt{-4 - 2 \\sqrt{3}}}{3} - \\frac{5 \\sqrt{-12 - 6 \\sqrt{3}}}{2} + \\frac{28 \\sqrt{-12 + 6 \\sqrt{3}}}{3} + \\frac{97 \\sqrt{-4 + 2 \\sqrt{3}}}{6}}{\\sqrt{\\sqrt{3} + 2} \\left(15 \\sqrt{3} + 26\\right)} & \\frac{3}{2}\\end{matrix}\\right]$"
            ],
            "text/plain": [
              "Matrix([\n",
              "[                                         0,                                                                                                                                                               -I*(5 + 3*sqrt(3))/(2*(sqrt(3) + 2)**(3/2)),                                                                                                                                                                                  sqrt(-2 + sqrt(3))*(1 + sqrt(3))/2],\n",
              "[I*(5 + 3*sqrt(3))/(2*(sqrt(3) + 2)**(3/2)),                                                                                                                                                                                                       3/2, ((sqrt(3) + 2)**3*(9*sqrt(6 - 3*sqrt(3)) + 18*sqrt(2 - sqrt(3)) - 2*sqrt(-4 + 2*sqrt(3)) - sqrt(-12 + 6*sqrt(3)))/6 + 2*sqrt(6)*I*(sqrt(3) + 2)**(3/2)/3 + 7*sqrt(2)*I*(sqrt(3) + 2)**(3/2)/6)/(sqrt(3) + 2)**(7/2)],\n",
              "[      -I*(1 + sqrt(3))*sqrt(2 - sqrt(3))/2, (84*sqrt(6 - 3*sqrt(3)) + 291*sqrt(2 - sqrt(3))/2 - 13*sqrt(-4 - 2*sqrt(3))/3 - 5*sqrt(-12 - 6*sqrt(3))/2 + 28*sqrt(-12 + 6*sqrt(3))/3 + 97*sqrt(-4 + 2*sqrt(3))/6)/(sqrt(sqrt(3) + 2)*(15*sqrt(3) + 26)),                                                                                                                                                                                                                 3/2]])"
            ]
          },
          "execution_count": 26,
          "metadata": {},
          "output_type": "execute_result"
        }
      ],
      "source": [
        "H_L = simplify((U * H * Udagger).expand(complex=True))\n",
        "H_L"
      ]
    },
    {
      "cell_type": "markdown",
      "metadata": {
        "id": "Shxj1Y1gN6h_"
      },
      "source": [
        "Y numéricamente, esta adquiere la forma:"
      ]
    },
    {
      "cell_type": "code",
      "execution_count": 27,
      "metadata": {
        "colab": {
          "base_uri": "https://localhost:8080/",
          "height": 78
        },
        "id": "W9Pi-7fRN6h_",
        "outputId": "76513b7e-ae10-4db6-b889-17d7c27fe855"
      },
      "outputs": [
        {
          "data": {
            "text/latex": [
              "$\\displaystyle \\left[\\begin{matrix}0 & - 0.707 i & 0.707 i\\\\0.707 i & 1.5 & 1.5 - 3.84 \\cdot 10^{-12} i\\\\- 0.707 i & 1.5 + 4.64 \\cdot 10^{-12} i & 1.5\\end{matrix}\\right]$"
            ],
            "text/plain": [
              "Matrix([\n",
              "[       0,         -0.707*I,          0.707*I],\n",
              "[ 0.707*I,              1.5, 1.5 - 3.84e-12*I],\n",
              "[-0.707*I, 1.5 + 4.64e-12*I,              1.5]])"
            ]
          },
          "execution_count": 27,
          "metadata": {},
          "output_type": "execute_result"
        }
      ],
      "source": [
        "H_L.evalf(3)"
      ]
    },
    {
      "cell_type": "markdown",
      "metadata": {
        "id": "7fFokoTCN6iA"
      },
      "source": [
        "## Punto 8"
      ]
    },
    {
      "cell_type": "markdown",
      "metadata": {
        "id": "MjQnLb26VeSS"
      },
      "source": [
        "En este punto se deben obtener el determinante y la traza de las matrices $H$ y $L$, adicionalmente se deben obtener el determinante y la traza nuevamente pero de las matrices en su forma diagonal.\n",
        "\n",
        "Para esto, se utiliza la función `det` que obtiene el determinante de una matriz y también se define la función `getTrace` que retorna la traza de una matriz dada. También se usa la función `diagonalize` que da las matrices necesarias para la diagonalización $PDP^{-1} = U$."
      ]
    },
    {
      "cell_type": "code",
      "execution_count": 28,
      "metadata": {
        "colab": {
          "base_uri": "https://localhost:8080/",
          "height": 508
        },
        "id": "pH-eFSDl535D",
        "outputId": "d385d8c3-5da3-4c17-8c80-c4a16f311944"
      },
      "outputs": [
        {
          "name": "stdout",
          "output_type": "stream",
          "text": [
            "El determinante de H es -3\n",
            "El determinante de L es 2*pi**3\n",
            "La traza de H es 3\n",
            "La traza de L es 6*pi\n",
            "Matriz P (vectores propios):\n"
          ]
        },
        {
          "data": {
            "text/latex": [
              "$\\displaystyle \\left[\\begin{matrix}- i & i & 0\\\\0 & 0 & 1\\\\1 & 1 & 0\\end{matrix}\\right]$"
            ],
            "text/plain": [
              "Matrix([\n",
              "[-I, I, 0],\n",
              "[ 0, 0, 1],\n",
              "[ 1, 1, 0]])"
            ]
          },
          "metadata": {},
          "output_type": "display_data"
        },
        {
          "name": "stdout",
          "output_type": "stream",
          "text": [
            "\n",
            "Matriz D (valores propios en la diagonal):\n"
          ]
        },
        {
          "data": {
            "text/latex": [
              "$\\displaystyle \\left[\\begin{matrix}-1 & 0 & 0\\\\0 & 1 & 0\\\\0 & 0 & 3\\end{matrix}\\right]$"
            ],
            "text/plain": [
              "Matrix([\n",
              "[-1, 0, 0],\n",
              "[ 0, 1, 0],\n",
              "[ 0, 0, 3]])"
            ]
          },
          "metadata": {},
          "output_type": "display_data"
        },
        {
          "name": "stdout",
          "output_type": "stream",
          "text": [
            "El determinante de H en su forma diagonal es -3\n",
            "La traza de H en su forma diagonal es 3\n",
            "Matriz P (vectores propios):\n"
          ]
        },
        {
          "data": {
            "text/latex": [
              "$\\displaystyle \\left[\\begin{matrix}- i & \\sqrt{3} i + 2 i & - \\sqrt{3} i + 2 i\\\\-1 & - \\sqrt{3} - 1 & -1 + \\sqrt{3}\\\\1 & 1 & 1\\end{matrix}\\right]$"
            ],
            "text/plain": [
              "Matrix([\n",
              "[-I, sqrt(3)*I + 2*I, -sqrt(3)*I + 2*I],\n",
              "[-1,    -sqrt(3) - 1,     -1 + sqrt(3)],\n",
              "[ 1,               1,                1]])"
            ]
          },
          "metadata": {},
          "output_type": "display_data"
        },
        {
          "name": "stdout",
          "output_type": "stream",
          "text": [
            "\n",
            "Matriz D (valores propios en la diagonal):\n"
          ]
        },
        {
          "data": {
            "text/latex": [
              "$\\displaystyle \\left[\\begin{matrix}2 \\pi & 0 & 0\\\\0 & \\pi \\left(2 - \\sqrt{3}\\right) & 0\\\\0 & 0 & \\pi \\left(\\sqrt{3} + 2\\right)\\end{matrix}\\right]$"
            ],
            "text/plain": [
              "Matrix([\n",
              "[2*pi,                0,                0],\n",
              "[   0, pi*(2 - sqrt(3)),                0],\n",
              "[   0,                0, pi*(sqrt(3) + 2)]])"
            ]
          },
          "metadata": {},
          "output_type": "display_data"
        },
        {
          "name": "stdout",
          "output_type": "stream",
          "text": [
            "El determinante de L en su forma diagonal es 2*pi**3\n",
            "La traza de L en su forma diagonal es 6*pi\n"
          ]
        }
      ],
      "source": [
        "# Calcula y muestra el determinante de la matriz H\n",
        "detH = H.det()\n",
        "print(\"El determinante de H es\", detH)\n",
        "\n",
        "# Calcula y muestra el determinante de la matriz L\n",
        "detL = L.det()\n",
        "print(\"El determinante de L es\", detL)\n",
        "\n",
        "# Función para calcular la traza de una matriz\n",
        "def getTrace(H):\n",
        "    tr = 0\n",
        "    # Recorre la diagonal principal de la matriz y suma sus elementos\n",
        "    for i in range(0, H.shape[1]):\n",
        "      tr += H.col(i)[i]\n",
        "    return tr\n",
        "\n",
        "# Muestra la traza de las matrices H y L\n",
        "print(\"La traza de H es\", getTrace(H))\n",
        "print(\"La traza de L es\", getTrace(L))\n",
        "\n",
        "# Diagonaliza la matriz H y muestra las matrices de vectores propios y valores propios\n",
        "P, D = H.diagonalize()\n",
        "print(\"Matriz P (vectores propios):\")\n",
        "display(P)\n",
        "print(\"\\nMatriz D (valores propios en la diagonal):\")\n",
        "display(D)\n",
        "\n",
        "# Calcula la matriz diagonalizada de H y muestra su determinante y traza\n",
        "HD = P * D * P.inv()\n",
        "detHD = HD.det()\n",
        "tzHD = getTrace(HD)\n",
        "print(\"El determinante de H en su forma diagonal es\", detHD)\n",
        "print(\"La traza de H en su forma diagonal es\", tzHD)\n",
        "\n",
        "# Diagonaliza la matriz L y muestra las matrices de vectores propios y valores propios\n",
        "P, D = L.diagonalize()\n",
        "print(\"Matriz P (vectores propios):\")\n",
        "display(P)\n",
        "print(\"\\nMatriz D (valores propios en la diagonal):\")\n",
        "display(D)\n",
        "\n",
        "# Calcula la matriz diagonalizada de L y muestra su determinante y traza\n",
        "LD = P * D * P.inv()\n",
        "detLD = LD.det()\n",
        "tzLD = simplify(getTrace(LD))\n",
        "print(\"El determinante de L en su forma diagonal es\", detLD)\n",
        "print(\"La traza de L en su forma diagonal es\", tzLD)"
      ]
    },
    {
      "cell_type": "markdown",
      "metadata": {
        "id": "YxDPEEDiXOGs"
      },
      "source": [
        "## Punto 9\n"
      ]
    },
    {
      "cell_type": "markdown",
      "metadata": {
        "id": "XLY9B3AnXVDp"
      },
      "source": [
        "Este punto pide encontrar dos estados arbitrarios como combinación lineal de los vectores base de $B_H$ y $B_L$. Para esto se tomaron coeficientes 2, -1, 3 en el caso de los vectores base de $B_H$ y 3, 4, -2 en el caso de los vectores base de la matriz $B_L$.\n"
      ]
    },
    {
      "cell_type": "code",
      "execution_count": 29,
      "metadata": {
        "colab": {
          "base_uri": "https://localhost:8080/",
          "height": 185
        },
        "id": "yQGdrUhlETUe",
        "outputId": "8984e7c6-7bb8-4d5d-c7af-1efe0a001dc4"
      },
      "outputs": [
        {
          "data": {
            "text/latex": [
              "$\\displaystyle \\left[\\begin{matrix}- \\frac{3 \\sqrt{2} i}{2}\\\\3\\\\\\frac{\\sqrt{2}}{2}\\end{matrix}\\right]$"
            ],
            "text/plain": [
              "Matrix([\n",
              "[-3*sqrt(2)*I/2],\n",
              "[             3],\n",
              "[     sqrt(2)/2]])"
            ]
          },
          "metadata": {},
          "output_type": "display_data"
        },
        {
          "data": {
            "text/latex": [
              "$\\displaystyle \\left[\\begin{matrix}- \\sqrt{3} i + \\frac{\\sqrt{-12 - 6 \\sqrt{3}}}{3}\\\\- \\sqrt{3} - \\frac{\\sqrt{6} \\left(1 + \\sqrt{3}\\right)}{3 \\sqrt{\\sqrt{3} + 2}}\\\\\\frac{\\sqrt{6}}{3 \\sqrt{\\sqrt{3} + 2}} + \\sqrt{3}\\end{matrix}\\right]$"
            ],
            "text/plain": [
              "Matrix([\n",
              "[                  -sqrt(3)*I + sqrt(-12 - 6*sqrt(3))/3],\n",
              "[-sqrt(3) - sqrt(6)*(1 + sqrt(3))/(3*sqrt(sqrt(3) + 2))],\n",
              "[               sqrt(6)/(3*sqrt(sqrt(3) + 2)) + sqrt(3)]])"
            ]
          },
          "metadata": {},
          "output_type": "display_data"
        }
      ],
      "source": [
        "# Se definen dos estados arbitrarios como combinación lineal de los vectores base de H y L. (phi1 está asociado a H y phi2 asociado a L)\n",
        "phi1 = 2*NHvects.col(0) - 1*NHvects.col(1) + 3*NHvects.col(2)\n",
        "phi2 = 3*NLvects.col(0) + 4*NLvects.col(1) - 2*NLvects.col(1)\n",
        "\n",
        "# Se muestra por pantalla el resultado de los estados arbitrarios phi1 y phi2\n",
        "display(phi1)\n",
        "display(phi2)"
      ]
    },
    {
      "cell_type": "markdown",
      "metadata": {
        "id": "igjAhHHRYQXZ"
      },
      "source": [
        "## Punto 10\n"
      ]
    },
    {
      "cell_type": "markdown",
      "metadata": {
        "id": "SAlAESAsYS4W"
      },
      "source": [
        "Este punto pide determinar el producto de las incertidumbres asociadas a $H$y $L$ evaluados en los dos estados arbitrarios ($\\ket{\\phi_1}$ y $\\ket{\\phi_2}$) definidos en el punto anterior.\n",
        "\n",
        "Para ello, se define la incertidumbre al cuadrado de $H$ y $L$ en el estado $\\ket{\\phi_1}$ y $\\ket{\\phi_2}$ y finalmente se realiza el cálculo del producto de las incertidumbres.\n",
        "\n",
        "También se verifica que se cumpla la desigualdad del principio de incertidubre que establece que el producto de las incertidumbres tiene que ser mayor o igual a el conmutador de $H$ y $L$ ensanduchado con los bra-kets asociados a los estados $\\ket{\\phi_1}$ y $\\ket{\\phi_2}$."
      ]
    },
    {
      "cell_type": "code",
      "execution_count": 30,
      "metadata": {
        "colab": {
          "base_uri": "https://localhost:8080/"
        },
        "id": "VE5qhLIPRZaT",
        "outputId": "f8cd3f6d-f1dc-4df5-fe59-51d61a0a0a52"
      },
      "outputs": [
        {
          "name": "stdout",
          "output_type": "stream",
          "text": [
            "La incertidumbre para el estado arbitrario 1 es 965.301352190534\n",
            "La incertidumbre para el estado arbitrario 2 es 1286.89547706178\n",
            "La incertidumbre asociada al estado phi1 debe ser mayor o igual a: -2.36364252615315e-125\n",
            "La incertidumbre asociada al estado phi2 debe ser mayor o igual a: 5.90910631538287e-126\n"
          ]
        }
      ],
      "source": [
        "# Incertidumbre para phi1\n",
        "DeltaH2 = simplify(((Dagger(phi1)*H**2 *phi1)[0]) - ((Dagger(phi1)*H*phi1)[0])**2)\n",
        "DeltaL2 = simplify(((Dagger(phi1)*L**2 *phi1)[0]) - ((Dagger(phi1)*L*phi1)[0])**2)\n",
        "DeltaHDeltaLphi1 = (sqrt(DeltaH2*DeltaL2)).evalf()\n",
        "print(\"La incertidumbre para el estado arbitrario 1 es\", DeltaHDeltaLphi1)\n",
        "\n",
        "# Principio de incertidumbre para phi1\n",
        "A = (1/2)*((Dagger(phi1)*Commutator(H,L))*phi1).evalf()\n",
        "\n",
        "# Incertidumbre para phi2\n",
        "DeltaH2 = simplify((Dagger(phi2)*H**2 *phi2)[0] - ((Dagger(phi2)*H*phi2)[0])**2)\n",
        "DeltaL2 = simplify((Dagger(phi2)*L**2 *phi2)[0] - ((Dagger(phi2)*L*phi2)[0])**2)\n",
        "DeltaHDeltaLphi2 = (sqrt(DeltaH2*DeltaL2)).evalf()\n",
        "\n",
        "print(\"La incertidumbre para el estado arbitrario 2 es\", DeltaHDeltaLphi2)\n",
        "\n",
        "# Principio de incertidumbre para phi2\n",
        "B = (1/2)*((Dagger(phi2)*Commutator(H,L)*phi2)).evalf()\n",
        "\n",
        "print(\"La incertidumbre asociada al estado phi1 debe ser mayor o igual a:\", A[0])\n",
        "print(\"La incertidumbre asociada al estado phi2 debe ser mayor o igual a:\", B[0])"
      ]
    }
  ],
  "metadata": {
    "colab": {
      "provenance": []
    },
    "kernelspec": {
      "display_name": "Python 3",
      "language": "python",
      "name": "python3"
    },
    "language_info": {
      "codemirror_mode": {
        "name": "ipython",
        "version": 3
      },
      "file_extension": ".py",
      "mimetype": "text/x-python",
      "name": "python",
      "nbconvert_exporter": "python",
      "pygments_lexer": "ipython3",
      "version": "3.11.3"
    }
  },
  "nbformat": 4,
  "nbformat_minor": 0
}
